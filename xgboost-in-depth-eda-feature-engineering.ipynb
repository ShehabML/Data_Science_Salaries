{
 "cells": [
  {
   "cell_type": "code",
   "execution_count": 1,
   "id": "3de6a857",
   "metadata": {
    "_cell_guid": "b1076dfc-b9ad-4769-8c92-a6c4dae69d19",
    "_uuid": "8f2839f25d086af736a60e9eeb907d3b93b6e0e5",
    "execution": {
     "iopub.execute_input": "2022-09-08T19:24:44.193983Z",
     "iopub.status.busy": "2022-09-08T19:24:44.193531Z",
     "iopub.status.idle": "2022-09-08T19:25:02.527023Z",
     "shell.execute_reply": "2022-09-08T19:25:02.525494Z"
    },
    "papermill": {
     "duration": 18.351391,
     "end_time": "2022-09-08T19:25:02.529772",
     "exception": false,
     "start_time": "2022-09-08T19:24:44.178381",
     "status": "completed"
    },
    "tags": []
   },
   "outputs": [
    {
     "name": "stdout",
     "output_type": "stream",
     "text": [
      "Collecting country_converter\r\n",
      "  Downloading country_converter-0.7.7.tar.gz (51 kB)\r\n",
      "\u001b[2K     \u001b[90m━━━━━━━━━━━━━━━━━━━━━━━━━━━━━━━━━━━━━━━\u001b[0m \u001b[32m51.2/51.2 kB\u001b[0m \u001b[31m207.1 kB/s\u001b[0m eta \u001b[36m0:00:00\u001b[0m\r\n",
      "\u001b[?25h  Preparing metadata (setup.py) ... \u001b[?25l-\b \bdone\r\n",
      "\u001b[?25hRequirement already satisfied: pandas>=1.0 in /opt/conda/lib/python3.7/site-packages (from country_converter) (1.3.5)\r\n",
      "Requirement already satisfied: python-dateutil>=2.7.3 in /opt/conda/lib/python3.7/site-packages (from pandas>=1.0->country_converter) (2.8.2)\r\n",
      "Requirement already satisfied: pytz>=2017.3 in /opt/conda/lib/python3.7/site-packages (from pandas>=1.0->country_converter) (2022.1)\r\n",
      "Requirement already satisfied: numpy>=1.17.3 in /opt/conda/lib/python3.7/site-packages (from pandas>=1.0->country_converter) (1.21.6)\r\n",
      "Requirement already satisfied: six>=1.5 in /opt/conda/lib/python3.7/site-packages (from python-dateutil>=2.7.3->pandas>=1.0->country_converter) (1.15.0)\r\n",
      "Building wheels for collected packages: country_converter\r\n",
      "  Building wheel for country_converter (setup.py) ... \u001b[?25l-\b \b\\\b \bdone\r\n",
      "\u001b[?25h  Created wheel for country_converter: filename=country_converter-0.7.7-py3-none-any.whl size=53786 sha256=728a891381f7715ae6ad1d156b3d35493b53df43619ecbc41c2270fef22fec1c\r\n",
      "  Stored in directory: /root/.cache/pip/wheels/e8/e6/60/61798a8a91462250002293d1c8cc8de90a130119a813277ccc\r\n",
      "Successfully built country_converter\r\n",
      "Installing collected packages: country_converter\r\n",
      "Successfully installed country_converter-0.7.7\r\n",
      "\u001b[33mWARNING: Running pip as the 'root' user can result in broken permissions and conflicting behaviour with the system package manager. It is recommended to use a virtual environment instead: https://pip.pypa.io/warnings/venv\u001b[0m\u001b[33m\r\n",
      "\u001b[0m/kaggle/input/data-science-job-salaries/ds_salaries.csv\n"
     ]
    }
   ],
   "source": [
    "import numpy as np \n",
    "import pandas as pd \n",
    "import matplotlib.pyplot as plt\n",
    "import seaborn as sns\n",
    "import plotly.express as px\n",
    "import warnings\n",
    "!pip install country_converter\n",
    "\n",
    "import country_converter\n",
    "from plotly.subplots import make_subplots\n",
    "import plotly.graph_objects as go\n",
    "\n",
    "WIDTH = 850\n",
    "\n",
    "pd.set_option('display.max_rows', None)\n",
    "\n",
    "import os\n",
    "for dirname, _, filenames in os.walk('/kaggle/input'):\n",
    "    for filename in filenames:\n",
    "        print(os.path.join(dirname, filename))\n",
    "\n",
    "warnings.filterwarnings('ignore')        "
   ]
  },
  {
   "cell_type": "code",
   "execution_count": 2,
   "id": "d9dbe6db",
   "metadata": {
    "execution": {
     "iopub.execute_input": "2022-09-08T19:25:02.558892Z",
     "iopub.status.busy": "2022-09-08T19:25:02.558018Z",
     "iopub.status.idle": "2022-09-08T19:25:03.706264Z",
     "shell.execute_reply": "2022-09-08T19:25:03.705122Z"
    },
    "papermill": {
     "duration": 1.16538,
     "end_time": "2022-09-08T19:25:03.709041",
     "exception": false,
     "start_time": "2022-09-08T19:25:02.543661",
     "status": "completed"
    },
    "tags": []
   },
   "outputs": [],
   "source": [
    "df = pd.read_csv('../input/data-science-job-salaries/ds_salaries.csv',index_col = 0)\n",
    "#preprocess values\n",
    "df['experience_level'] = df['experience_level'].map({'EN':'Junior', 'MI':'Middle', 'SE':'Senior', 'EX':'Executive'})\n",
    "df['company_location'] = country_converter.convert(names=df['company_location'], to=\"ISO3\")\n",
    "df['employee_residence'] = country_converter.convert(names=df['employee_residence'], to=\"ISO3\")"
   ]
  },
  {
   "cell_type": "markdown",
   "id": "bc076544",
   "metadata": {
    "papermill": {
     "duration": 0.012149,
     "end_time": "2022-09-08T19:25:03.733593",
     "exception": false,
     "start_time": "2022-09-08T19:25:03.721444",
     "status": "completed"
    },
    "tags": []
   },
   "source": [
    "## Data Investegation "
   ]
  },
  {
   "cell_type": "code",
   "execution_count": 3,
   "id": "62c2eef6",
   "metadata": {
    "execution": {
     "iopub.execute_input": "2022-09-08T19:25:03.762369Z",
     "iopub.status.busy": "2022-09-08T19:25:03.761286Z",
     "iopub.status.idle": "2022-09-08T19:25:03.788302Z",
     "shell.execute_reply": "2022-09-08T19:25:03.787438Z"
    },
    "papermill": {
     "duration": 0.043052,
     "end_time": "2022-09-08T19:25:03.790550",
     "exception": false,
     "start_time": "2022-09-08T19:25:03.747498",
     "status": "completed"
    },
    "tags": []
   },
   "outputs": [
    {
     "data": {
      "text/html": [
       "<div>\n",
       "<style scoped>\n",
       "    .dataframe tbody tr th:only-of-type {\n",
       "        vertical-align: middle;\n",
       "    }\n",
       "\n",
       "    .dataframe tbody tr th {\n",
       "        vertical-align: top;\n",
       "    }\n",
       "\n",
       "    .dataframe thead th {\n",
       "        text-align: right;\n",
       "    }\n",
       "</style>\n",
       "<table border=\"1\" class=\"dataframe\">\n",
       "  <thead>\n",
       "    <tr style=\"text-align: right;\">\n",
       "      <th></th>\n",
       "      <th>work_year</th>\n",
       "      <th>experience_level</th>\n",
       "      <th>employment_type</th>\n",
       "      <th>job_title</th>\n",
       "      <th>salary</th>\n",
       "      <th>salary_currency</th>\n",
       "      <th>salary_in_usd</th>\n",
       "      <th>employee_residence</th>\n",
       "      <th>remote_ratio</th>\n",
       "      <th>company_location</th>\n",
       "      <th>company_size</th>\n",
       "    </tr>\n",
       "  </thead>\n",
       "  <tbody>\n",
       "    <tr>\n",
       "      <th>0</th>\n",
       "      <td>2020</td>\n",
       "      <td>Middle</td>\n",
       "      <td>FT</td>\n",
       "      <td>Data Scientist</td>\n",
       "      <td>70000</td>\n",
       "      <td>EUR</td>\n",
       "      <td>79833</td>\n",
       "      <td>DEU</td>\n",
       "      <td>0</td>\n",
       "      <td>DEU</td>\n",
       "      <td>L</td>\n",
       "    </tr>\n",
       "    <tr>\n",
       "      <th>1</th>\n",
       "      <td>2020</td>\n",
       "      <td>Senior</td>\n",
       "      <td>FT</td>\n",
       "      <td>Machine Learning Scientist</td>\n",
       "      <td>260000</td>\n",
       "      <td>USD</td>\n",
       "      <td>260000</td>\n",
       "      <td>JPN</td>\n",
       "      <td>0</td>\n",
       "      <td>JPN</td>\n",
       "      <td>S</td>\n",
       "    </tr>\n",
       "    <tr>\n",
       "      <th>2</th>\n",
       "      <td>2020</td>\n",
       "      <td>Senior</td>\n",
       "      <td>FT</td>\n",
       "      <td>Big Data Engineer</td>\n",
       "      <td>85000</td>\n",
       "      <td>GBP</td>\n",
       "      <td>109024</td>\n",
       "      <td>GBR</td>\n",
       "      <td>50</td>\n",
       "      <td>GBR</td>\n",
       "      <td>M</td>\n",
       "    </tr>\n",
       "    <tr>\n",
       "      <th>3</th>\n",
       "      <td>2020</td>\n",
       "      <td>Middle</td>\n",
       "      <td>FT</td>\n",
       "      <td>Product Data Analyst</td>\n",
       "      <td>20000</td>\n",
       "      <td>USD</td>\n",
       "      <td>20000</td>\n",
       "      <td>HND</td>\n",
       "      <td>0</td>\n",
       "      <td>HND</td>\n",
       "      <td>S</td>\n",
       "    </tr>\n",
       "    <tr>\n",
       "      <th>4</th>\n",
       "      <td>2020</td>\n",
       "      <td>Senior</td>\n",
       "      <td>FT</td>\n",
       "      <td>Machine Learning Engineer</td>\n",
       "      <td>150000</td>\n",
       "      <td>USD</td>\n",
       "      <td>150000</td>\n",
       "      <td>USA</td>\n",
       "      <td>50</td>\n",
       "      <td>USA</td>\n",
       "      <td>L</td>\n",
       "    </tr>\n",
       "    <tr>\n",
       "      <th>5</th>\n",
       "      <td>2020</td>\n",
       "      <td>Junior</td>\n",
       "      <td>FT</td>\n",
       "      <td>Data Analyst</td>\n",
       "      <td>72000</td>\n",
       "      <td>USD</td>\n",
       "      <td>72000</td>\n",
       "      <td>USA</td>\n",
       "      <td>100</td>\n",
       "      <td>USA</td>\n",
       "      <td>L</td>\n",
       "    </tr>\n",
       "    <tr>\n",
       "      <th>6</th>\n",
       "      <td>2020</td>\n",
       "      <td>Senior</td>\n",
       "      <td>FT</td>\n",
       "      <td>Lead Data Scientist</td>\n",
       "      <td>190000</td>\n",
       "      <td>USD</td>\n",
       "      <td>190000</td>\n",
       "      <td>USA</td>\n",
       "      <td>100</td>\n",
       "      <td>USA</td>\n",
       "      <td>S</td>\n",
       "    </tr>\n",
       "    <tr>\n",
       "      <th>7</th>\n",
       "      <td>2020</td>\n",
       "      <td>Middle</td>\n",
       "      <td>FT</td>\n",
       "      <td>Data Scientist</td>\n",
       "      <td>11000000</td>\n",
       "      <td>HUF</td>\n",
       "      <td>35735</td>\n",
       "      <td>HUN</td>\n",
       "      <td>50</td>\n",
       "      <td>HUN</td>\n",
       "      <td>L</td>\n",
       "    </tr>\n",
       "    <tr>\n",
       "      <th>8</th>\n",
       "      <td>2020</td>\n",
       "      <td>Middle</td>\n",
       "      <td>FT</td>\n",
       "      <td>Business Data Analyst</td>\n",
       "      <td>135000</td>\n",
       "      <td>USD</td>\n",
       "      <td>135000</td>\n",
       "      <td>USA</td>\n",
       "      <td>100</td>\n",
       "      <td>USA</td>\n",
       "      <td>L</td>\n",
       "    </tr>\n",
       "    <tr>\n",
       "      <th>9</th>\n",
       "      <td>2020</td>\n",
       "      <td>Senior</td>\n",
       "      <td>FT</td>\n",
       "      <td>Lead Data Engineer</td>\n",
       "      <td>125000</td>\n",
       "      <td>USD</td>\n",
       "      <td>125000</td>\n",
       "      <td>NZL</td>\n",
       "      <td>50</td>\n",
       "      <td>NZL</td>\n",
       "      <td>S</td>\n",
       "    </tr>\n",
       "  </tbody>\n",
       "</table>\n",
       "</div>"
      ],
      "text/plain": [
       "   work_year experience_level employment_type                   job_title  \\\n",
       "0       2020           Middle              FT              Data Scientist   \n",
       "1       2020           Senior              FT  Machine Learning Scientist   \n",
       "2       2020           Senior              FT           Big Data Engineer   \n",
       "3       2020           Middle              FT        Product Data Analyst   \n",
       "4       2020           Senior              FT   Machine Learning Engineer   \n",
       "5       2020           Junior              FT                Data Analyst   \n",
       "6       2020           Senior              FT         Lead Data Scientist   \n",
       "7       2020           Middle              FT              Data Scientist   \n",
       "8       2020           Middle              FT       Business Data Analyst   \n",
       "9       2020           Senior              FT          Lead Data Engineer   \n",
       "\n",
       "     salary salary_currency  salary_in_usd employee_residence  remote_ratio  \\\n",
       "0     70000             EUR          79833                DEU             0   \n",
       "1    260000             USD         260000                JPN             0   \n",
       "2     85000             GBP         109024                GBR            50   \n",
       "3     20000             USD          20000                HND             0   \n",
       "4    150000             USD         150000                USA            50   \n",
       "5     72000             USD          72000                USA           100   \n",
       "6    190000             USD         190000                USA           100   \n",
       "7  11000000             HUF          35735                HUN            50   \n",
       "8    135000             USD         135000                USA           100   \n",
       "9    125000             USD         125000                NZL            50   \n",
       "\n",
       "  company_location company_size  \n",
       "0              DEU            L  \n",
       "1              JPN            S  \n",
       "2              GBR            M  \n",
       "3              HND            S  \n",
       "4              USA            L  \n",
       "5              USA            L  \n",
       "6              USA            S  \n",
       "7              HUN            L  \n",
       "8              USA            L  \n",
       "9              NZL            S  "
      ]
     },
     "execution_count": 3,
     "metadata": {},
     "output_type": "execute_result"
    }
   ],
   "source": [
    "df.head(10)"
   ]
  },
  {
   "cell_type": "code",
   "execution_count": 4,
   "id": "0b88727f",
   "metadata": {
    "execution": {
     "iopub.execute_input": "2022-09-08T19:25:03.819379Z",
     "iopub.status.busy": "2022-09-08T19:25:03.818568Z",
     "iopub.status.idle": "2022-09-08T19:25:03.835720Z",
     "shell.execute_reply": "2022-09-08T19:25:03.834624Z"
    },
    "papermill": {
     "duration": 0.035679,
     "end_time": "2022-09-08T19:25:03.839344",
     "exception": false,
     "start_time": "2022-09-08T19:25:03.803665",
     "status": "completed"
    },
    "tags": []
   },
   "outputs": [
    {
     "name": "stdout",
     "output_type": "stream",
     "text": [
      "<class 'pandas.core.frame.DataFrame'>\n",
      "Int64Index: 607 entries, 0 to 606\n",
      "Data columns (total 11 columns):\n",
      " #   Column              Non-Null Count  Dtype \n",
      "---  ------              --------------  ----- \n",
      " 0   work_year           607 non-null    int64 \n",
      " 1   experience_level    607 non-null    object\n",
      " 2   employment_type     607 non-null    object\n",
      " 3   job_title           607 non-null    object\n",
      " 4   salary              607 non-null    int64 \n",
      " 5   salary_currency     607 non-null    object\n",
      " 6   salary_in_usd       607 non-null    int64 \n",
      " 7   employee_residence  607 non-null    object\n",
      " 8   remote_ratio        607 non-null    int64 \n",
      " 9   company_location    607 non-null    object\n",
      " 10  company_size        607 non-null    object\n",
      "dtypes: int64(4), object(7)\n",
      "memory usage: 56.9+ KB\n"
     ]
    }
   ],
   "source": [
    "df.info()\n",
    "#so our data is kinda small as it's only 607 records \n",
    "#also we don't have any nulls , how lucky :)"
   ]
  },
  {
   "cell_type": "code",
   "execution_count": 5,
   "id": "8e4c010e",
   "metadata": {
    "execution": {
     "iopub.execute_input": "2022-09-08T19:25:03.868470Z",
     "iopub.status.busy": "2022-09-08T19:25:03.867766Z",
     "iopub.status.idle": "2022-09-08T19:25:03.875038Z",
     "shell.execute_reply": "2022-09-08T19:25:03.873749Z"
    },
    "papermill": {
     "duration": 0.024214,
     "end_time": "2022-09-08T19:25:03.877445",
     "exception": false,
     "start_time": "2022-09-08T19:25:03.853231",
     "status": "completed"
    },
    "tags": []
   },
   "outputs": [
    {
     "data": {
      "text/plain": [
       "array([2020, 2021, 2022])"
      ]
     },
     "execution_count": 5,
     "metadata": {},
     "output_type": "execute_result"
    }
   ],
   "source": [
    "df['work_year'].unique()\n",
    "#so we have records from 3 years which is 2020-21-22\n",
    "#lets see if this affects the salaries"
   ]
  },
  {
   "cell_type": "code",
   "execution_count": 6,
   "id": "5453506f",
   "metadata": {
    "execution": {
     "iopub.execute_input": "2022-09-08T19:25:03.905621Z",
     "iopub.status.busy": "2022-09-08T19:25:03.905191Z",
     "iopub.status.idle": "2022-09-08T19:25:03.925232Z",
     "shell.execute_reply": "2022-09-08T19:25:03.924104Z"
    },
    "papermill": {
     "duration": 0.036831,
     "end_time": "2022-09-08T19:25:03.927407",
     "exception": false,
     "start_time": "2022-09-08T19:25:03.890576",
     "status": "completed"
    },
    "tags": []
   },
   "outputs": [
    {
     "data": {
      "text/html": [
       "<div>\n",
       "<style scoped>\n",
       "    .dataframe tbody tr th:only-of-type {\n",
       "        vertical-align: middle;\n",
       "    }\n",
       "\n",
       "    .dataframe tbody tr th {\n",
       "        vertical-align: top;\n",
       "    }\n",
       "\n",
       "    .dataframe thead th {\n",
       "        text-align: right;\n",
       "    }\n",
       "</style>\n",
       "<table border=\"1\" class=\"dataframe\">\n",
       "  <thead>\n",
       "    <tr style=\"text-align: right;\">\n",
       "      <th></th>\n",
       "      <th>min</th>\n",
       "      <th>max</th>\n",
       "      <th>mean</th>\n",
       "    </tr>\n",
       "    <tr>\n",
       "      <th>work_year</th>\n",
       "      <th></th>\n",
       "      <th></th>\n",
       "      <th></th>\n",
       "    </tr>\n",
       "  </thead>\n",
       "  <tbody>\n",
       "    <tr>\n",
       "      <th>2020</th>\n",
       "      <td>5707</td>\n",
       "      <td>450000</td>\n",
       "      <td>95813.000000</td>\n",
       "    </tr>\n",
       "    <tr>\n",
       "      <th>2021</th>\n",
       "      <td>2859</td>\n",
       "      <td>600000</td>\n",
       "      <td>99853.792627</td>\n",
       "    </tr>\n",
       "    <tr>\n",
       "      <th>2022</th>\n",
       "      <td>10000</td>\n",
       "      <td>405000</td>\n",
       "      <td>124522.006289</td>\n",
       "    </tr>\n",
       "  </tbody>\n",
       "</table>\n",
       "</div>"
      ],
      "text/plain": [
       "             min     max           mean\n",
       "work_year                              \n",
       "2020        5707  450000   95813.000000\n",
       "2021        2859  600000   99853.792627\n",
       "2022       10000  405000  124522.006289"
      ]
     },
     "execution_count": 6,
     "metadata": {},
     "output_type": "execute_result"
    }
   ],
   "source": [
    "df.groupby('work_year')['salary_in_usd'].agg([min,max,np.mean])\n",
    "# We can notice that over the years salaries are actually increasing from a mean of 95812 to 124522\n"
   ]
  },
  {
   "cell_type": "code",
   "execution_count": 7,
   "id": "17b3107c",
   "metadata": {
    "execution": {
     "iopub.execute_input": "2022-09-08T19:25:03.956737Z",
     "iopub.status.busy": "2022-09-08T19:25:03.955877Z",
     "iopub.status.idle": "2022-09-08T19:25:03.969562Z",
     "shell.execute_reply": "2022-09-08T19:25:03.968375Z"
    },
    "papermill": {
     "duration": 0.030986,
     "end_time": "2022-09-08T19:25:03.971879",
     "exception": false,
     "start_time": "2022-09-08T19:25:03.940893",
     "status": "completed"
    },
    "tags": []
   },
   "outputs": [
    {
     "data": {
      "text/html": [
       "<div>\n",
       "<style scoped>\n",
       "    .dataframe tbody tr th:only-of-type {\n",
       "        vertical-align: middle;\n",
       "    }\n",
       "\n",
       "    .dataframe tbody tr th {\n",
       "        vertical-align: top;\n",
       "    }\n",
       "\n",
       "    .dataframe thead th {\n",
       "        text-align: right;\n",
       "    }\n",
       "</style>\n",
       "<table border=\"1\" class=\"dataframe\">\n",
       "  <thead>\n",
       "    <tr style=\"text-align: right;\">\n",
       "      <th></th>\n",
       "      <th>min</th>\n",
       "      <th>max</th>\n",
       "      <th>mean</th>\n",
       "    </tr>\n",
       "    <tr>\n",
       "      <th>experience_level</th>\n",
       "      <th></th>\n",
       "      <th></th>\n",
       "      <th></th>\n",
       "    </tr>\n",
       "  </thead>\n",
       "  <tbody>\n",
       "    <tr>\n",
       "      <th>Executive</th>\n",
       "      <td>69741</td>\n",
       "      <td>600000</td>\n",
       "      <td>199392.038462</td>\n",
       "    </tr>\n",
       "    <tr>\n",
       "      <th>Junior</th>\n",
       "      <td>4000</td>\n",
       "      <td>250000</td>\n",
       "      <td>61643.318182</td>\n",
       "    </tr>\n",
       "    <tr>\n",
       "      <th>Middle</th>\n",
       "      <td>2859</td>\n",
       "      <td>450000</td>\n",
       "      <td>87996.056338</td>\n",
       "    </tr>\n",
       "    <tr>\n",
       "      <th>Senior</th>\n",
       "      <td>18907</td>\n",
       "      <td>412000</td>\n",
       "      <td>138617.292857</td>\n",
       "    </tr>\n",
       "  </tbody>\n",
       "</table>\n",
       "</div>"
      ],
      "text/plain": [
       "                    min     max           mean\n",
       "experience_level                              \n",
       "Executive         69741  600000  199392.038462\n",
       "Junior             4000  250000   61643.318182\n",
       "Middle             2859  450000   87996.056338\n",
       "Senior            18907  412000  138617.292857"
      ]
     },
     "execution_count": 7,
     "metadata": {},
     "output_type": "execute_result"
    }
   ],
   "source": [
    "df.groupby('experience_level')['salary_in_usd'].agg([min,max,np.mean])\n",
    "# clearly salaries are sorted with dependance of experience level,\n",
    "# however i think we have an oulier with a salary of 2859\n"
   ]
  },
  {
   "cell_type": "code",
   "execution_count": 8,
   "id": "b6a3d1dd",
   "metadata": {
    "execution": {
     "iopub.execute_input": "2022-09-08T19:25:04.001035Z",
     "iopub.status.busy": "2022-09-08T19:25:04.000607Z",
     "iopub.status.idle": "2022-09-08T19:25:04.017210Z",
     "shell.execute_reply": "2022-09-08T19:25:04.016027Z"
    },
    "papermill": {
     "duration": 0.033934,
     "end_time": "2022-09-08T19:25:04.019522",
     "exception": false,
     "start_time": "2022-09-08T19:25:03.985588",
     "status": "completed"
    },
    "tags": []
   },
   "outputs": [
    {
     "data": {
      "text/html": [
       "<div>\n",
       "<style scoped>\n",
       "    .dataframe tbody tr th:only-of-type {\n",
       "        vertical-align: middle;\n",
       "    }\n",
       "\n",
       "    .dataframe tbody tr th {\n",
       "        vertical-align: top;\n",
       "    }\n",
       "\n",
       "    .dataframe thead th {\n",
       "        text-align: right;\n",
       "    }\n",
       "</style>\n",
       "<table border=\"1\" class=\"dataframe\">\n",
       "  <thead>\n",
       "    <tr style=\"text-align: right;\">\n",
       "      <th></th>\n",
       "      <th>work_year</th>\n",
       "      <th>experience_level</th>\n",
       "      <th>employment_type</th>\n",
       "      <th>job_title</th>\n",
       "      <th>salary</th>\n",
       "      <th>salary_currency</th>\n",
       "      <th>salary_in_usd</th>\n",
       "      <th>employee_residence</th>\n",
       "      <th>remote_ratio</th>\n",
       "      <th>company_location</th>\n",
       "      <th>company_size</th>\n",
       "    </tr>\n",
       "  </thead>\n",
       "  <tbody>\n",
       "    <tr>\n",
       "      <th>27</th>\n",
       "      <td>2020</td>\n",
       "      <td>Senior</td>\n",
       "      <td>FT</td>\n",
       "      <td>Data Engineer</td>\n",
       "      <td>720000</td>\n",
       "      <td>MXN</td>\n",
       "      <td>33511</td>\n",
       "      <td>MEX</td>\n",
       "      <td>0</td>\n",
       "      <td>MEX</td>\n",
       "      <td>S</td>\n",
       "    </tr>\n",
       "    <tr>\n",
       "      <th>176</th>\n",
       "      <td>2021</td>\n",
       "      <td>Middle</td>\n",
       "      <td>FT</td>\n",
       "      <td>Data Scientist</td>\n",
       "      <td>58000</td>\n",
       "      <td>MXN</td>\n",
       "      <td>2859</td>\n",
       "      <td>MEX</td>\n",
       "      <td>0</td>\n",
       "      <td>MEX</td>\n",
       "      <td>S</td>\n",
       "    </tr>\n",
       "    <tr>\n",
       "      <th>417</th>\n",
       "      <td>2022</td>\n",
       "      <td>Senior</td>\n",
       "      <td>FT</td>\n",
       "      <td>Data Science Engineer</td>\n",
       "      <td>60000</td>\n",
       "      <td>USD</td>\n",
       "      <td>60000</td>\n",
       "      <td>ARG</td>\n",
       "      <td>100</td>\n",
       "      <td>MEX</td>\n",
       "      <td>L</td>\n",
       "    </tr>\n",
       "  </tbody>\n",
       "</table>\n",
       "</div>"
      ],
      "text/plain": [
       "     work_year experience_level employment_type              job_title  \\\n",
       "27        2020           Senior              FT          Data Engineer   \n",
       "176       2021           Middle              FT         Data Scientist   \n",
       "417       2022           Senior              FT  Data Science Engineer   \n",
       "\n",
       "     salary salary_currency  salary_in_usd employee_residence  remote_ratio  \\\n",
       "27   720000             MXN          33511                MEX             0   \n",
       "176   58000             MXN           2859                MEX             0   \n",
       "417   60000             USD          60000                ARG           100   \n",
       "\n",
       "    company_location company_size  \n",
       "27               MEX            S  \n",
       "176              MEX            S  \n",
       "417              MEX            L  "
      ]
     },
     "execution_count": 8,
     "metadata": {},
     "output_type": "execute_result"
    }
   ],
   "source": [
    "df[df['company_location']=='MEX']\n",
    "#the mean salary for SE data scientest is 138,617 \n",
    "#but in Mexico it's only 60,000 which is less than 45% of the normal salary"
   ]
  },
  {
   "cell_type": "code",
   "execution_count": 9,
   "id": "71061cdd",
   "metadata": {
    "execution": {
     "iopub.execute_input": "2022-09-08T19:25:04.049136Z",
     "iopub.status.busy": "2022-09-08T19:25:04.048739Z",
     "iopub.status.idle": "2022-09-08T19:25:04.073909Z",
     "shell.execute_reply": "2022-09-08T19:25:04.072746Z"
    },
    "papermill": {
     "duration": 0.043076,
     "end_time": "2022-09-08T19:25:04.076381",
     "exception": false,
     "start_time": "2022-09-08T19:25:04.033305",
     "status": "completed"
    },
    "tags": []
   },
   "outputs": [
    {
     "data": {
      "text/html": [
       "<div>\n",
       "<style scoped>\n",
       "    .dataframe tbody tr th:only-of-type {\n",
       "        vertical-align: middle;\n",
       "    }\n",
       "\n",
       "    .dataframe tbody tr th {\n",
       "        vertical-align: top;\n",
       "    }\n",
       "\n",
       "    .dataframe thead th {\n",
       "        text-align: right;\n",
       "    }\n",
       "</style>\n",
       "<table border=\"1\" class=\"dataframe\">\n",
       "  <thead>\n",
       "    <tr style=\"text-align: right;\">\n",
       "      <th></th>\n",
       "      <th></th>\n",
       "      <th>min</th>\n",
       "      <th>max</th>\n",
       "      <th>mean</th>\n",
       "    </tr>\n",
       "    <tr>\n",
       "      <th>company_location</th>\n",
       "      <th>experience_level</th>\n",
       "      <th></th>\n",
       "      <th></th>\n",
       "      <th></th>\n",
       "    </tr>\n",
       "  </thead>\n",
       "  <tbody>\n",
       "    <tr>\n",
       "      <th>JPN</th>\n",
       "      <th>Senior</th>\n",
       "      <td>168000</td>\n",
       "      <td>260000</td>\n",
       "      <td>214000.000000</td>\n",
       "    </tr>\n",
       "    <tr>\n",
       "      <th>USA</th>\n",
       "      <th>Senior</th>\n",
       "      <td>25000</td>\n",
       "      <td>412000</td>\n",
       "      <td>151527.633028</td>\n",
       "    </tr>\n",
       "    <tr>\n",
       "      <th>NZL</th>\n",
       "      <th>Senior</th>\n",
       "      <td>125000</td>\n",
       "      <td>125000</td>\n",
       "      <td>125000.000000</td>\n",
       "    </tr>\n",
       "    <tr>\n",
       "      <th>DEU</th>\n",
       "      <th>Senior</th>\n",
       "      <td>63831</td>\n",
       "      <td>173762</td>\n",
       "      <td>115745.857143</td>\n",
       "    </tr>\n",
       "    <tr>\n",
       "      <th>CAN</th>\n",
       "      <th>Senior</th>\n",
       "      <td>61300</td>\n",
       "      <td>225000</td>\n",
       "      <td>111523.133333</td>\n",
       "    </tr>\n",
       "    <tr>\n",
       "      <th>SVN</th>\n",
       "      <th>Senior</th>\n",
       "      <td>102839</td>\n",
       "      <td>102839</td>\n",
       "      <td>102839.000000</td>\n",
       "    </tr>\n",
       "    <tr>\n",
       "      <th>FRA</th>\n",
       "      <th>Senior</th>\n",
       "      <td>53192</td>\n",
       "      <td>152000</td>\n",
       "      <td>94075.750000</td>\n",
       "    </tr>\n",
       "    <tr>\n",
       "      <th>ARE</th>\n",
       "      <th>Senior</th>\n",
       "      <td>65000</td>\n",
       "      <td>120000</td>\n",
       "      <td>92500.000000</td>\n",
       "    </tr>\n",
       "    <tr>\n",
       "      <th>AUT</th>\n",
       "      <th>Senior</th>\n",
       "      <td>91237</td>\n",
       "      <td>91237</td>\n",
       "      <td>91237.000000</td>\n",
       "    </tr>\n",
       "    <tr>\n",
       "      <th>GBR</th>\n",
       "      <th>Senior</th>\n",
       "      <td>50000</td>\n",
       "      <td>117789</td>\n",
       "      <td>90931.083333</td>\n",
       "    </tr>\n",
       "    <tr>\n",
       "      <th>DNK</th>\n",
       "      <th>Senior</th>\n",
       "      <td>88654</td>\n",
       "      <td>88654</td>\n",
       "      <td>88654.000000</td>\n",
       "    </tr>\n",
       "    <tr>\n",
       "      <th>BEL</th>\n",
       "      <th>Senior</th>\n",
       "      <td>82744</td>\n",
       "      <td>82744</td>\n",
       "      <td>82744.000000</td>\n",
       "    </tr>\n",
       "    <tr>\n",
       "      <th>IRL</th>\n",
       "      <th>Senior</th>\n",
       "      <td>71444</td>\n",
       "      <td>71444</td>\n",
       "      <td>71444.000000</td>\n",
       "    </tr>\n",
       "    <tr>\n",
       "      <th>NLD</th>\n",
       "      <th>Senior</th>\n",
       "      <td>62651</td>\n",
       "      <td>62651</td>\n",
       "      <td>62651.000000</td>\n",
       "    </tr>\n",
       "    <tr>\n",
       "      <th>PRT</th>\n",
       "      <th>Senior</th>\n",
       "      <td>60757</td>\n",
       "      <td>60757</td>\n",
       "      <td>60757.000000</td>\n",
       "    </tr>\n",
       "    <tr>\n",
       "      <th>IND</th>\n",
       "      <th>Senior</th>\n",
       "      <td>24342</td>\n",
       "      <td>94665</td>\n",
       "      <td>56460.500000</td>\n",
       "    </tr>\n",
       "    <tr>\n",
       "      <th>ESP</th>\n",
       "      <th>Senior</th>\n",
       "      <td>55000</td>\n",
       "      <td>55000</td>\n",
       "      <td>55000.000000</td>\n",
       "    </tr>\n",
       "    <tr>\n",
       "      <th>GRC</th>\n",
       "      <th>Senior</th>\n",
       "      <td>47899</td>\n",
       "      <td>47899</td>\n",
       "      <td>47899.000000</td>\n",
       "    </tr>\n",
       "    <tr>\n",
       "      <th>MEX</th>\n",
       "      <th>Senior</th>\n",
       "      <td>33511</td>\n",
       "      <td>60000</td>\n",
       "      <td>46755.500000</td>\n",
       "    </tr>\n",
       "    <tr>\n",
       "      <th>HRV</th>\n",
       "      <th>Senior</th>\n",
       "      <td>45618</td>\n",
       "      <td>45618</td>\n",
       "      <td>45618.000000</td>\n",
       "    </tr>\n",
       "    <tr>\n",
       "      <th>BRA</th>\n",
       "      <th>Senior</th>\n",
       "      <td>18907</td>\n",
       "      <td>24000</td>\n",
       "      <td>21453.500000</td>\n",
       "    </tr>\n",
       "    <tr>\n",
       "      <th>TUR</th>\n",
       "      <th>Senior</th>\n",
       "      <td>20171</td>\n",
       "      <td>20171</td>\n",
       "      <td>20171.000000</td>\n",
       "    </tr>\n",
       "    <tr>\n",
       "      <th>USA</th>\n",
       "      <th>Middle</th>\n",
       "      <td>5679</td>\n",
       "      <td>450000</td>\n",
       "      <td>125780.211111</td>\n",
       "    </tr>\n",
       "    <tr>\n",
       "      <th>CHE</th>\n",
       "      <th>Middle</th>\n",
       "      <td>122346</td>\n",
       "      <td>122346</td>\n",
       "      <td>122346.000000</td>\n",
       "    </tr>\n",
       "    <tr>\n",
       "      <th>ISR</th>\n",
       "      <th>Middle</th>\n",
       "      <td>119059</td>\n",
       "      <td>119059</td>\n",
       "      <td>119059.000000</td>\n",
       "    </tr>\n",
       "    <tr>\n",
       "      <th>ARE</th>\n",
       "      <th>Middle</th>\n",
       "      <td>115000</td>\n",
       "      <td>115000</td>\n",
       "      <td>115000.000000</td>\n",
       "    </tr>\n",
       "    <tr>\n",
       "      <th>SGP</th>\n",
       "      <th>Middle</th>\n",
       "      <td>89294</td>\n",
       "      <td>89294</td>\n",
       "      <td>89294.000000</td>\n",
       "    </tr>\n",
       "    <tr>\n",
       "      <th>BEL</th>\n",
       "      <th>Middle</th>\n",
       "      <td>88654</td>\n",
       "      <td>88654</td>\n",
       "      <td>88654.000000</td>\n",
       "    </tr>\n",
       "    <tr>\n",
       "      <th>AUS</th>\n",
       "      <th>Middle</th>\n",
       "      <td>87425</td>\n",
       "      <td>87425</td>\n",
       "      <td>87425.000000</td>\n",
       "    </tr>\n",
       "    <tr>\n",
       "      <th>CAN</th>\n",
       "      <th>Middle</th>\n",
       "      <td>54238</td>\n",
       "      <td>187442</td>\n",
       "      <td>83530.300000</td>\n",
       "    </tr>\n",
       "  </tbody>\n",
       "</table>\n",
       "</div>"
      ],
      "text/plain": [
       "                                      min     max           mean\n",
       "company_location experience_level                               \n",
       "JPN              Senior            168000  260000  214000.000000\n",
       "USA              Senior             25000  412000  151527.633028\n",
       "NZL              Senior            125000  125000  125000.000000\n",
       "DEU              Senior             63831  173762  115745.857143\n",
       "CAN              Senior             61300  225000  111523.133333\n",
       "SVN              Senior            102839  102839  102839.000000\n",
       "FRA              Senior             53192  152000   94075.750000\n",
       "ARE              Senior             65000  120000   92500.000000\n",
       "AUT              Senior             91237   91237   91237.000000\n",
       "GBR              Senior             50000  117789   90931.083333\n",
       "DNK              Senior             88654   88654   88654.000000\n",
       "BEL              Senior             82744   82744   82744.000000\n",
       "IRL              Senior             71444   71444   71444.000000\n",
       "NLD              Senior             62651   62651   62651.000000\n",
       "PRT              Senior             60757   60757   60757.000000\n",
       "IND              Senior             24342   94665   56460.500000\n",
       "ESP              Senior             55000   55000   55000.000000\n",
       "GRC              Senior             47899   47899   47899.000000\n",
       "MEX              Senior             33511   60000   46755.500000\n",
       "HRV              Senior             45618   45618   45618.000000\n",
       "BRA              Senior             18907   24000   21453.500000\n",
       "TUR              Senior             20171   20171   20171.000000\n",
       "USA              Middle              5679  450000  125780.211111\n",
       "CHE              Middle            122346  122346  122346.000000\n",
       "ISR              Middle            119059  119059  119059.000000\n",
       "ARE              Middle            115000  115000  115000.000000\n",
       "SGP              Middle             89294   89294   89294.000000\n",
       "BEL              Middle             88654   88654   88654.000000\n",
       "AUS              Middle             87425   87425   87425.000000\n",
       "CAN              Middle             54238  187442   83530.300000"
      ]
     },
     "execution_count": 9,
     "metadata": {},
     "output_type": "execute_result"
    }
   ],
   "source": [
    "df.groupby(['company_location','experience_level'])['salary_in_usd'].agg(\n",
    "                 [min,max,np.mean]).sort_values(['experience_level','mean'] , ascending = False)[:30]\n",
    "\n",
    "## appearntly salaries diffrance are too huge from one country to another which means that we'll need\n",
    "# much more feature Eng ti discover a pattern that gives us a strong relation with the output \n"
   ]
  },
  {
   "cell_type": "code",
   "execution_count": 10,
   "id": "8d174018",
   "metadata": {
    "execution": {
     "iopub.execute_input": "2022-09-08T19:25:04.107510Z",
     "iopub.status.busy": "2022-09-08T19:25:04.106471Z",
     "iopub.status.idle": "2022-09-08T19:25:04.120238Z",
     "shell.execute_reply": "2022-09-08T19:25:04.119288Z"
    },
    "papermill": {
     "duration": 0.031624,
     "end_time": "2022-09-08T19:25:04.122587",
     "exception": false,
     "start_time": "2022-09-08T19:25:04.090963",
     "status": "completed"
    },
    "tags": []
   },
   "outputs": [
    {
     "data": {
      "text/html": [
       "<div>\n",
       "<style scoped>\n",
       "    .dataframe tbody tr th:only-of-type {\n",
       "        vertical-align: middle;\n",
       "    }\n",
       "\n",
       "    .dataframe tbody tr th {\n",
       "        vertical-align: top;\n",
       "    }\n",
       "\n",
       "    .dataframe thead th {\n",
       "        text-align: right;\n",
       "    }\n",
       "</style>\n",
       "<table border=\"1\" class=\"dataframe\">\n",
       "  <thead>\n",
       "    <tr style=\"text-align: right;\">\n",
       "      <th></th>\n",
       "      <th>min</th>\n",
       "      <th>max</th>\n",
       "      <th>mean</th>\n",
       "    </tr>\n",
       "    <tr>\n",
       "      <th>company_size</th>\n",
       "      <th></th>\n",
       "      <th></th>\n",
       "      <th></th>\n",
       "    </tr>\n",
       "  </thead>\n",
       "  <tbody>\n",
       "    <tr>\n",
       "      <th>L</th>\n",
       "      <td>5882</td>\n",
       "      <td>600000</td>\n",
       "      <td>119242.994949</td>\n",
       "    </tr>\n",
       "    <tr>\n",
       "      <th>M</th>\n",
       "      <td>4000</td>\n",
       "      <td>450000</td>\n",
       "      <td>116905.466258</td>\n",
       "    </tr>\n",
       "    <tr>\n",
       "      <th>S</th>\n",
       "      <td>2859</td>\n",
       "      <td>416000</td>\n",
       "      <td>77632.674699</td>\n",
       "    </tr>\n",
       "  </tbody>\n",
       "</table>\n",
       "</div>"
      ],
      "text/plain": [
       "               min     max           mean\n",
       "company_size                             \n",
       "L             5882  600000  119242.994949\n",
       "M             4000  450000  116905.466258\n",
       "S             2859  416000   77632.674699"
      ]
     },
     "execution_count": 10,
     "metadata": {},
     "output_type": "execute_result"
    }
   ],
   "source": [
    "df.groupby(['company_size'])['salary_in_usd'].agg(\n",
    "    [min,max,np.mean]).sort_values('mean',ascending = False)\n",
    "#as expected the larger the cokmany the more salaries they pay specially M , L "
   ]
  },
  {
   "cell_type": "code",
   "execution_count": 11,
   "id": "6e709ef8",
   "metadata": {
    "execution": {
     "iopub.execute_input": "2022-09-08T19:25:04.153311Z",
     "iopub.status.busy": "2022-09-08T19:25:04.152648Z",
     "iopub.status.idle": "2022-09-08T19:25:04.166489Z",
     "shell.execute_reply": "2022-09-08T19:25:04.165527Z"
    },
    "papermill": {
     "duration": 0.032062,
     "end_time": "2022-09-08T19:25:04.168914",
     "exception": false,
     "start_time": "2022-09-08T19:25:04.136852",
     "status": "completed"
    },
    "tags": []
   },
   "outputs": [
    {
     "data": {
      "text/html": [
       "<div>\n",
       "<style scoped>\n",
       "    .dataframe tbody tr th:only-of-type {\n",
       "        vertical-align: middle;\n",
       "    }\n",
       "\n",
       "    .dataframe tbody tr th {\n",
       "        vertical-align: top;\n",
       "    }\n",
       "\n",
       "    .dataframe thead th {\n",
       "        text-align: right;\n",
       "    }\n",
       "</style>\n",
       "<table border=\"1\" class=\"dataframe\">\n",
       "  <thead>\n",
       "    <tr style=\"text-align: right;\">\n",
       "      <th></th>\n",
       "      <th>min</th>\n",
       "      <th>max</th>\n",
       "      <th>mean</th>\n",
       "    </tr>\n",
       "    <tr>\n",
       "      <th>job_title</th>\n",
       "      <th></th>\n",
       "      <th></th>\n",
       "      <th></th>\n",
       "    </tr>\n",
       "  </thead>\n",
       "  <tbody>\n",
       "    <tr>\n",
       "      <th>Data Analytics Lead</th>\n",
       "      <td>405000</td>\n",
       "      <td>405000</td>\n",
       "      <td>405000.000000</td>\n",
       "    </tr>\n",
       "    <tr>\n",
       "      <th>Principal Data Engineer</th>\n",
       "      <td>185000</td>\n",
       "      <td>600000</td>\n",
       "      <td>328333.333333</td>\n",
       "    </tr>\n",
       "    <tr>\n",
       "      <th>Financial Data Analyst</th>\n",
       "      <td>100000</td>\n",
       "      <td>450000</td>\n",
       "      <td>275000.000000</td>\n",
       "    </tr>\n",
       "    <tr>\n",
       "      <th>Principal Data Scientist</th>\n",
       "      <td>148261</td>\n",
       "      <td>416000</td>\n",
       "      <td>215242.428571</td>\n",
       "    </tr>\n",
       "    <tr>\n",
       "      <th>Director of Data Science</th>\n",
       "      <td>130026</td>\n",
       "      <td>325000</td>\n",
       "      <td>195074.000000</td>\n",
       "    </tr>\n",
       "    <tr>\n",
       "      <th>Data Architect</th>\n",
       "      <td>90700</td>\n",
       "      <td>266400</td>\n",
       "      <td>177873.909091</td>\n",
       "    </tr>\n",
       "    <tr>\n",
       "      <th>Applied Data Scientist</th>\n",
       "      <td>54238</td>\n",
       "      <td>380000</td>\n",
       "      <td>175655.000000</td>\n",
       "    </tr>\n",
       "    <tr>\n",
       "      <th>Analytics Engineer</th>\n",
       "      <td>135000</td>\n",
       "      <td>205300</td>\n",
       "      <td>175000.000000</td>\n",
       "    </tr>\n",
       "    <tr>\n",
       "      <th>Data Specialist</th>\n",
       "      <td>165000</td>\n",
       "      <td>165000</td>\n",
       "      <td>165000.000000</td>\n",
       "    </tr>\n",
       "    <tr>\n",
       "      <th>Head of Data</th>\n",
       "      <td>32974</td>\n",
       "      <td>235000</td>\n",
       "      <td>160162.600000</td>\n",
       "    </tr>\n",
       "    <tr>\n",
       "      <th>Machine Learning Scientist</th>\n",
       "      <td>12000</td>\n",
       "      <td>260000</td>\n",
       "      <td>158412.500000</td>\n",
       "    </tr>\n",
       "    <tr>\n",
       "      <th>Data Science Manager</th>\n",
       "      <td>54094</td>\n",
       "      <td>241000</td>\n",
       "      <td>158328.500000</td>\n",
       "    </tr>\n",
       "    <tr>\n",
       "      <th>Director of Data Engineering</th>\n",
       "      <td>113476</td>\n",
       "      <td>200000</td>\n",
       "      <td>156738.000000</td>\n",
       "    </tr>\n",
       "    <tr>\n",
       "      <th>Head of Data Science</th>\n",
       "      <td>85000</td>\n",
       "      <td>224000</td>\n",
       "      <td>146718.750000</td>\n",
       "    </tr>\n",
       "    <tr>\n",
       "      <th>Applied Machine Learning Scientist</th>\n",
       "      <td>31875</td>\n",
       "      <td>423000</td>\n",
       "      <td>142068.750000</td>\n",
       "    </tr>\n",
       "  </tbody>\n",
       "</table>\n",
       "</div>"
      ],
      "text/plain": [
       "                                       min     max           mean\n",
       "job_title                                                        \n",
       "Data Analytics Lead                 405000  405000  405000.000000\n",
       "Principal Data Engineer             185000  600000  328333.333333\n",
       "Financial Data Analyst              100000  450000  275000.000000\n",
       "Principal Data Scientist            148261  416000  215242.428571\n",
       "Director of Data Science            130026  325000  195074.000000\n",
       "Data Architect                       90700  266400  177873.909091\n",
       "Applied Data Scientist               54238  380000  175655.000000\n",
       "Analytics Engineer                  135000  205300  175000.000000\n",
       "Data Specialist                     165000  165000  165000.000000\n",
       "Head of Data                         32974  235000  160162.600000\n",
       "Machine Learning Scientist           12000  260000  158412.500000\n",
       "Data Science Manager                 54094  241000  158328.500000\n",
       "Director of Data Engineering        113476  200000  156738.000000\n",
       "Head of Data Science                 85000  224000  146718.750000\n",
       "Applied Machine Learning Scientist   31875  423000  142068.750000"
      ]
     },
     "execution_count": 11,
     "metadata": {},
     "output_type": "execute_result"
    }
   ],
   "source": [
    "df.groupby(['job_title'])['salary_in_usd'].agg(\n",
    "    [min,max,np.mean]).sort_values('mean',ascending = False)[:15]\n",
    "\n",
    "#there are many diffrent titles that we may drop this col later "
   ]
  },
  {
   "cell_type": "markdown",
   "id": "f1da3452",
   "metadata": {
    "papermill": {
     "duration": 0.014004,
     "end_time": "2022-09-08T19:25:04.197378",
     "exception": false,
     "start_time": "2022-09-08T19:25:04.183374",
     "status": "completed"
    },
    "tags": []
   },
   "source": [
    "## Data Cleaning :"
   ]
  },
  {
   "cell_type": "code",
   "execution_count": 12,
   "id": "f9a11bdf",
   "metadata": {
    "execution": {
     "iopub.execute_input": "2022-09-08T19:25:04.228228Z",
     "iopub.status.busy": "2022-09-08T19:25:04.227568Z",
     "iopub.status.idle": "2022-09-08T19:25:04.233989Z",
     "shell.execute_reply": "2022-09-08T19:25:04.233217Z"
    },
    "papermill": {
     "duration": 0.024492,
     "end_time": "2022-09-08T19:25:04.236137",
     "exception": false,
     "start_time": "2022-09-08T19:25:04.211645",
     "status": "completed"
    },
    "tags": []
   },
   "outputs": [],
   "source": [
    "#Lets start by making a function to clean our data \n",
    "def Clean_Data(data):\n",
    "    data_c = data.copy()\n",
    "    \n",
    "    ## lets deal with remote_ratio as it has 3 values 0,50,100 for how much the work is remote \n",
    "    ## we might just make it a 0,1,2 values \n",
    "    data_c['remote_ratio'] = data_c['remote_ratio']/50 \n",
    "\n",
    "    Num_features = ['salary','salary_in_usd']\n",
    "    for feature in data_c.columns :\n",
    "        if feature not in Num_features:\n",
    "            data_c[feature] = data_c[feature].astype(\"category\")\n",
    "    \n",
    "    return data_c"
   ]
  },
  {
   "cell_type": "code",
   "execution_count": 13,
   "id": "d5450cf1",
   "metadata": {
    "execution": {
     "iopub.execute_input": "2022-09-08T19:25:04.267069Z",
     "iopub.status.busy": "2022-09-08T19:25:04.266436Z",
     "iopub.status.idle": "2022-09-08T19:25:04.278947Z",
     "shell.execute_reply": "2022-09-08T19:25:04.277734Z"
    },
    "papermill": {
     "duration": 0.031435,
     "end_time": "2022-09-08T19:25:04.281922",
     "exception": false,
     "start_time": "2022-09-08T19:25:04.250487",
     "status": "completed"
    },
    "tags": []
   },
   "outputs": [
    {
     "name": "stdout",
     "output_type": "stream",
     "text": [
      "<class 'pandas.core.frame.DataFrame'>\n",
      "Int64Index: 607 entries, 0 to 606\n",
      "Data columns (total 11 columns):\n",
      " #   Column              Non-Null Count  Dtype \n",
      "---  ------              --------------  ----- \n",
      " 0   work_year           607 non-null    int64 \n",
      " 1   experience_level    607 non-null    object\n",
      " 2   employment_type     607 non-null    object\n",
      " 3   job_title           607 non-null    object\n",
      " 4   salary              607 non-null    int64 \n",
      " 5   salary_currency     607 non-null    object\n",
      " 6   salary_in_usd       607 non-null    int64 \n",
      " 7   employee_residence  607 non-null    object\n",
      " 8   remote_ratio        607 non-null    int64 \n",
      " 9   company_location    607 non-null    object\n",
      " 10  company_size        607 non-null    object\n",
      "dtypes: int64(4), object(7)\n",
      "memory usage: 56.9+ KB\n"
     ]
    }
   ],
   "source": [
    "df.info()"
   ]
  },
  {
   "cell_type": "code",
   "execution_count": 14,
   "id": "260a8d7b",
   "metadata": {
    "execution": {
     "iopub.execute_input": "2022-09-08T19:25:04.313303Z",
     "iopub.status.busy": "2022-09-08T19:25:04.312590Z",
     "iopub.status.idle": "2022-09-08T19:25:04.325826Z",
     "shell.execute_reply": "2022-09-08T19:25:04.324929Z"
    },
    "papermill": {
     "duration": 0.031489,
     "end_time": "2022-09-08T19:25:04.328313",
     "exception": false,
     "start_time": "2022-09-08T19:25:04.296824",
     "status": "completed"
    },
    "tags": []
   },
   "outputs": [],
   "source": [
    "df_pre = df.copy()\n",
    "df_pre = Clean_Data(df_pre)"
   ]
  },
  {
   "cell_type": "markdown",
   "id": "db46d0cd",
   "metadata": {
    "papermill": {
     "duration": 0.014281,
     "end_time": "2022-09-08T19:25:04.357376",
     "exception": false,
     "start_time": "2022-09-08T19:25:04.343095",
     "status": "completed"
    },
    "tags": []
   },
   "source": [
    "## Data Visulization:"
   ]
  },
  {
   "cell_type": "code",
   "execution_count": 15,
   "id": "44ad53d0",
   "metadata": {
    "execution": {
     "iopub.execute_input": "2022-09-08T19:25:04.388394Z",
     "iopub.status.busy": "2022-09-08T19:25:04.387495Z",
     "iopub.status.idle": "2022-09-08T19:25:14.986197Z",
     "shell.execute_reply": "2022-09-08T19:25:14.984953Z"
    },
    "papermill": {
     "duration": 10.618901,
     "end_time": "2022-09-08T19:25:14.990702",
     "exception": false,
     "start_time": "2022-09-08T19:25:04.371801",
     "status": "completed"
    },
    "tags": []
   },
   "outputs": [
    {
     "data": {
      "image/png": "[encoded data removed]",
      "text/plain": [
       "<Figure size 1440x1080 with 11 Axes>"
      ]
     },
     "metadata": {
      "needs_background": "light"
     },
     "output_type": "display_data"
    }
   ],
   "source": [
    "plt.figure(figsize=(20,15))\n",
    "for i,col in enumerate(df_pre.columns,1):\n",
    "    plt.subplot(4,3,i)\n",
    "    plt.title(f\"Distribution of \" + col +  \" Data\")\n",
    "    sns.histplot(df_pre[col],kde=True)\n",
    "    plt.tight_layout()\n",
    "    plt.plot()"
   ]
  },
  {
   "cell_type": "markdown",
   "id": "9236efa0",
   "metadata": {
    "papermill": {
     "duration": 0.01738,
     "end_time": "2022-09-08T19:25:15.026290",
     "exception": false,
     "start_time": "2022-09-08T19:25:15.008910",
     "status": "completed"
    },
    "tags": []
   },
   "source": [
    "the above charts suggests:\n",
    "- we should maybe categorize the countries by some other feature to get a better overview that could be more helpfull\n",
    "- Job titles could be categorized into 4-8 names rather than what we have\n",
    "- Most of the jobs are Full time jobs "
   ]
  },
  {
   "cell_type": "code",
   "execution_count": 16,
   "id": "f7bcd7be",
   "metadata": {
    "execution": {
     "iopub.execute_input": "2022-09-08T19:25:15.063231Z",
     "iopub.status.busy": "2022-09-08T19:25:15.062421Z",
     "iopub.status.idle": "2022-09-08T19:25:16.059047Z",
     "shell.execute_reply": "2022-09-08T19:25:16.057924Z"
    },
    "papermill": {
     "duration": 1.018026,
     "end_time": "2022-09-08T19:25:16.061660",
     "exception": false,
     "start_time": "2022-09-08T19:25:15.043634",
     "status": "completed"
    },
    "tags": []
   },
   "outputs": [
    {
     "data": {
      "text/html": [
       "        <script type=\"text/javascript\">\n",
       "        window.PlotlyConfig = {MathJaxConfig: 'local'};\n",
       "        if (window.MathJax && window.MathJax.Hub && window.MathJax.Hub.Config) {window.MathJax.Hub.Config({SVG: {font: \"STIX-Web\"}});}\n",
       "        if (typeof require !== 'undefined') {\n",
       "        require.undef(\"plotly\");\n",
       "        requirejs.config({\n",
       "            paths: {\n",
       "                'plotly': ['https://cdn.plot.ly/plotly-2.14.0.min']\n",
       "            }\n",
       "        });\n",
       "        require(['plotly'], function(Plotly) {\n",
       "            window._Plotly = Plotly;\n",
       "        });\n",
       "        }\n",
       "        </script>\n",
       "        "
      ]
     },
     "metadata": {},
     "output_type": "display_data"
    },
    {
     "data": {
      "text/html": [
       "<div>                            <div id=\"423f97da-fe87-48a3-a62b-95576fd3f15e\" class=\"plotly-graph-div\" style=\"height:525px; width:850px;\"></div>            <script type=\"text/javascript\">                require([\"plotly\"], function(Plotly) {                    window.PLOTLYENV=window.PLOTLYENV || {};                                    if (document.getElementById(\"423f97da-fe87-48a3-a62b-95576fd3f15e\")) {                    Plotly.newPlot(                        \"423f97da-fe87-48a3-a62b-95576fd3f15e\",                        [{\"alignmentgroup\":\"True\",\"bingroup\":\"x\",\"hovertemplate\":\"work_year=2020<br>salary_in_usd=%{x}<br>count=%{y}<extra></extra>\",\"legendgroup\":\"2020\",\"marker\":{\"color\":\"black\",\"opacity\":0.8,\"pattern\":{\"shape\":\"\"}},\"name\":\"2020\",\"offsetgroup\":\"2020\",\"orientation\":\"v\",\"showlegend\":true,\"x\":[79833,260000,109024,20000,150000,72000,190000,35735,135000,125000,51321,40481,39916,87000,85000,8000,41689,114047,5707,56000,43331,6072,47899,98000,115000,325000,42000,33511,100000,117104,59303,70000,68428,450000,46759,74130,103000,250000,10000,138000,45760,79833,50180,106000,112872,15966,76958,188000,105000,70139,6072,91000,45896,54742,60000,148261,38776,118000,120000,138350,110000,130800,21669,412000,45618,62726,49268,190200,105000,91237,62726,42197],\"xaxis\":\"x\",\"yaxis\":\"y\",\"type\":\"histogram\"},{\"alignmentgroup\":\"True\",\"hovertemplate\":\"work_year=2020<br>salary_in_usd=%{x}<extra></extra>\",\"legendgroup\":\"2020\",\"marker\":{\"color\":\"black\"},\"name\":\"2020\",\"notched\":true,\"offsetgroup\":\"2020\",\"showlegend\":false,\"x\":[79833,260000,109024,20000,150000,72000,190000,35735,135000,125000,51321,40481,39916,87000,85000,8000,41689,114047,5707,56000,43331,6072,47899,98000,115000,325000,42000,33511,100000,117104,59303,70000,68428,450000,46759,74130,103000,250000,10000,138000,45760,79833,50180,106000,112872,15966,76958,188000,105000,70139,6072,91000,45896,54742,60000,148261,38776,118000,120000,138350,110000,130800,21669,412000,45618,62726,49268,190200,105000,91237,62726,42197],\"xaxis\":\"x2\",\"yaxis\":\"y2\",\"type\":\"box\"},{\"alignmentgroup\":\"True\",\"bingroup\":\"x\",\"hovertemplate\":\"work_year=2021<br>salary_in_usd=%{x}<br>count=%{y}<extra></extra>\",\"legendgroup\":\"2021\",\"marker\":{\"color\":\"gray\",\"opacity\":0.8,\"pattern\":{\"shape\":\"\"}},\"name\":\"2021\",\"offsetgroup\":\"2021\",\"orientation\":\"v\",\"showlegend\":true,\"x\":[82528,150000,235000,53192,100000,5409,270000,80000,79197,140000,54238,47282,153667,28476,59102,110000,170000,80000,88654,76833,19609,276000,29751,89294,12000,450000,70000,95746,75000,150000,36259,62000,73000,51519,187442,115000,150000,30428,94564,113476,103160,12000,45391,225000,50000,40189,90000,200000,60000,200000,50000,110037,10354,151000,120000,9466,20000,40570,100000,49646,38400,24000,100000,90000,63711,77364,220000,80000,135000,240000,150000,82500,100000,82744,62649,90000,153000,160000,168000,150000,75774,13400,144000,127221,119059,423000,120000,125000,230000,85000,28369,63831,130026,165000,80000,250000,55000,150000,170000,82528,60000,235000,60757,174000,2859,40038,81000,5679,22611,90734,26005,61896,12000,4000,50000,69741,76833,74000,152000,21844,18000,174000,96113,147000,9272,24342,54094,90000,61467,195000,37825,50000,160000,12901,200000,165000,20000,120000,24823,56738,66022,5882,24823,185000,28609,90734,88654,140000,46597,116914,33808,56256,225000,416000,87738,88654,135000,71786,16228,256000,200000,200000,180000,110000,63810,46809,4000,21637,103691,80000,110000,165000,18053,72212,36643,12103,96282,170000,115000,90000,600000,28399,93000,99703,200000,173762,185000,141846,130000,63831,16904,66265,25532,160000,93150,111775,28016,65013,72500,18907,76833,85000,77684,100000,58000,55000,20171,59102,112000,100000,69741,105000,69999,94665,102839,109000,51064],\"xaxis\":\"x\",\"yaxis\":\"y\",\"type\":\"histogram\"},{\"alignmentgroup\":\"True\",\"hovertemplate\":\"work_year=2021<br>salary_in_usd=%{x}<extra></extra>\",\"legendgroup\":\"2021\",\"marker\":{\"color\":\"gray\"},\"name\":\"2021\",\"notched\":true,\"offsetgroup\":\"2021\",\"showlegend\":false,\"x\":[82528,150000,235000,53192,100000,5409,270000,80000,79197,140000,54238,47282,153667,28476,59102,110000,170000,80000,88654,76833,19609,276000,29751,89294,12000,450000,70000,95746,75000,150000,36259,62000,73000,51519,187442,115000,150000,30428,94564,113476,103160,12000,45391,225000,50000,40189,90000,200000,60000,200000,50000,110037,10354,151000,120000,9466,20000,40570,100000,49646,38400,24000,100000,90000,63711,77364,220000,80000,135000,240000,150000,82500,100000,82744,62649,90000,153000,160000,168000,150000,75774,13400,144000,127221,119059,423000,120000,125000,230000,85000,28369,63831,130026,165000,80000,250000,55000,150000,170000,82528,60000,235000,60757,174000,2859,40038,81000,5679,22611,90734,26005,61896,12000,4000,50000,69741,76833,74000,152000,21844,18000,174000,96113,147000,9272,24342,54094,90000,61467,195000,37825,50000,160000,12901,200000,165000,20000,120000,24823,56738,66022,5882,24823,185000,28609,90734,88654,140000,46597,116914,33808,56256,225000,416000,87738,88654,135000,71786,16228,256000,200000,200000,180000,110000,63810,46809,4000,21637,103691,80000,110000,165000,18053,72212,36643,12103,96282,170000,115000,90000,600000,28399,93000,99703,200000,173762,185000,141846,130000,63831,16904,66265,25532,160000,93150,111775,28016,65013,72500,18907,76833,85000,77684,100000,58000,55000,20171,59102,112000,100000,69741,105000,69999,94665,102839,109000,51064],\"xaxis\":\"x2\",\"yaxis\":\"y2\",\"type\":\"box\"},{\"alignmentgroup\":\"True\",\"bingroup\":\"x\",\"hovertemplate\":\"work_year=2022<br>salary_in_usd=%{x}<br>count=%{y}<extra></extra>\",\"legendgroup\":\"2022\",\"marker\":{\"color\":\"blue\",\"opacity\":0.8,\"pattern\":{\"shape\":\"\"}},\"name\":\"2022\",\"offsetgroup\":\"2022\",\"orientation\":\"v\",\"showlegend\":true,\"x\":[135000,155000,120600,130000,90000,170000,150000,102100,84900,136620,99360,117789,104702,146000,123000,52351,99000,116000,106260,126500,242000,200000,65438,39263,78526,52351,165220,45807,120160,90320,181940,132320,220110,160080,180000,120000,124190,130000,110000,170000,115500,112900,90320,112900,90320,165400,132320,167000,243900,136600,109280,128875,93700,224000,167875,175000,156600,108800,95550,113000,135000,161342,137141,167000,123000,78526,65438,150000,211500,192400,90700,130000,61300,130000,61300,160000,138600,136000,58000,135000,170000,123000,189650,164996,54957,54957,118187,132000,165400,208775,147800,136994,101570,128875,93700,79039,132320,37300,164000,155000,124333,98158,120000,112900,90320,145000,105400,87932,117789,215300,158200,209100,154600,115934,81666,175000,98158,58000,183600,52351,180000,71982,45807,65949,49461,78526,58894,260000,60000,63900,160000,112300,241000,159000,180000,80000,82900,100800,49461,140400,39263,43966,32974,87932,76940,104702,91614,65949,87932,189650,164996,43966,32974,98158,78526,215300,76940,209100,154600,180000,21983,80000,78791,196979,120000,125000,37236,105000,87932,18442,31615,58255,100000,54957,18442,162674,120000,144000,104890,100000,140000,135000,50000,220000,140000,183228,91614,185100,220000,200000,120000,120000,65000,324000,216000,210000,120000,230000,100000,100000,31875,200000,75000,35590,78791,100000,153000,58035,165000,93427,52396,62651,32974,40000,87425,115000,86703,75000,64849,120000,157000,150000,70912,65000,71444,20000,48000,152500,68147,122346,380000,69336,10000,20000,405000,135000,177000,78000,135000,100000,90320,85000,75000,214000,192600,266400,213120,112900,155000,141300,102100,115934,81666,206699,99100,130000,115000,110500,130000,99050,160000,205300,140400,176000,144000,200100,160000,145000,70500,205300,140400,205300,184700,175100,140250,116150,54000,170000,65438,80000,140000,210000,140000,100000,69000,210000,140000,210000,150075,100000,25000,126500,106260,220110,160080,105000,110925,45807,140000,99000,60000,192564,144854,230000,150000,150260,109280,210000,170000,160000,130000,67000,52000,154000,126000,129000,150000,200000],\"xaxis\":\"x\",\"yaxis\":\"y\",\"type\":\"histogram\"},{\"alignmentgroup\":\"True\",\"hovertemplate\":\"work_year=2022<br>salary_in_usd=%{x}<extra></extra>\",\"legendgroup\":\"2022\",\"marker\":{\"color\":\"blue\"},\"name\":\"2022\",\"notched\":true,\"offsetgroup\":\"2022\",\"showlegend\":false,\"x\":[135000,155000,120600,130000,90000,170000,150000,102100,84900,136620,99360,117789,104702,146000,123000,52351,99000,116000,106260,126500,242000,200000,65438,39263,78526,52351,165220,45807,120160,90320,181940,132320,220110,160080,180000,120000,124190,130000,110000,170000,115500,112900,90320,112900,90320,165400,132320,167000,243900,136600,109280,128875,93700,224000,167875,175000,156600,108800,95550,113000,135000,161342,137141,167000,123000,78526,65438,150000,211500,192400,90700,130000,61300,130000,61300,160000,138600,136000,58000,135000,170000,123000,189650,164996,54957,54957,118187,132000,165400,208775,147800,136994,101570,128875,93700,79039,132320,37300,164000,155000,124333,98158,120000,112900,90320,145000,105400,87932,117789,215300,158200,209100,154600,115934,81666,175000,98158,58000,183600,52351,180000,71982,45807,65949,49461,78526,58894,260000,60000,63900,160000,112300,241000,159000,180000,80000,82900,100800,49461,140400,39263,43966,32974,87932,76940,104702,91614,65949,87932,189650,164996,43966,32974,98158,78526,215300,76940,209100,154600,180000,21983,80000,78791,196979,120000,125000,37236,105000,87932,18442,31615,58255,100000,54957,18442,162674,120000,144000,104890,100000,140000,135000,50000,220000,140000,183228,91614,185100,220000,200000,120000,120000,65000,324000,216000,210000,120000,230000,100000,100000,31875,200000,75000,35590,78791,100000,153000,58035,165000,93427,52396,62651,32974,40000,87425,115000,86703,75000,64849,120000,157000,150000,70912,65000,71444,20000,48000,152500,68147,122346,380000,69336,10000,20000,405000,135000,177000,78000,135000,100000,90320,85000,75000,214000,192600,266400,213120,112900,155000,141300,102100,115934,81666,206699,99100,130000,115000,110500,130000,99050,160000,205300,140400,176000,144000,200100,160000,145000,70500,205300,140400,205300,184700,175100,140250,116150,54000,170000,65438,80000,140000,210000,140000,100000,69000,210000,140000,210000,150075,100000,25000,126500,106260,220110,160080,105000,110925,45807,140000,99000,60000,192564,144854,230000,150000,150260,109280,210000,170000,160000,130000,67000,52000,154000,126000,129000,150000,200000],\"xaxis\":\"x2\",\"yaxis\":\"y2\",\"type\":\"box\"}],                        {\"template\":{\"data\":{\"histogram2dcontour\":[{\"type\":\"histogram2dcontour\",\"colorbar\":{\"outlinewidth\":0,\"ticks\":\"\"},\"colorscale\":[[0.0,\"#0d0887\"],[0.1111111111111111,\"#46039f\"],[0.2222222222222222,\"#7201a8\"],[0.3333333333333333,\"#9c179e\"],[0.4444444444444444,\"#bd3786\"],[0.5555555555555556,\"#d8576b\"],[0.6666666666666666,\"#ed7953\"],[0.7777777777777778,\"#fb9f3a\"],[0.8888888888888888,\"#fdca26\"],[1.0,\"#f0f921\"]]}],\"choropleth\":[{\"type\":\"choropleth\",\"colorbar\":{\"outlinewidth\":0,\"ticks\":\"\"}}],\"histogram2d\":[{\"type\":\"histogram2d\",\"colorbar\":{\"outlinewidth\":0,\"ticks\":\"\"},\"colorscale\":[[0.0,\"#0d0887\"],[0.1111111111111111,\"#46039f\"],[0.2222222222222222,\"#7201a8\"],[0.3333333333333333,\"#9c179e\"],[0.4444444444444444,\"#bd3786\"],[0.5555555555555556,\"#d8576b\"],[0.6666666666666666,\"#ed7953\"],[0.7777777777777778,\"#fb9f3a\"],[0.8888888888888888,\"#fdca26\"],[1.0,\"#f0f921\"]]}],\"heatmap\":[{\"type\":\"heatmap\",\"colorbar\":{\"outlinewidth\":0,\"ticks\":\"\"},\"colorscale\":[[0.0,\"#0d0887\"],[0.1111111111111111,\"#46039f\"],[0.2222222222222222,\"#7201a8\"],[0.3333333333333333,\"#9c179e\"],[0.4444444444444444,\"#bd3786\"],[0.5555555555555556,\"#d8576b\"],[0.6666666666666666,\"#ed7953\"],[0.7777777777777778,\"#fb9f3a\"],[0.8888888888888888,\"#fdca26\"],[1.0,\"#f0f921\"]]}],\"heatmapgl\":[{\"type\":\"heatmapgl\",\"colorbar\":{\"outlinewidth\":0,\"ticks\":\"\"},\"colorscale\":[[0.0,\"#0d0887\"],[0.1111111111111111,\"#46039f\"],[0.2222222222222222,\"#7201a8\"],[0.3333333333333333,\"#9c179e\"],[0.4444444444444444,\"#bd3786\"],[0.5555555555555556,\"#d8576b\"],[0.6666666666666666,\"#ed7953\"],[0.7777777777777778,\"#fb9f3a\"],[0.8888888888888888,\"#fdca26\"],[1.0,\"#f0f921\"]]}],\"contourcarpet\":[{\"type\":\"contourcarpet\",\"colorbar\":{\"outlinewidth\":0,\"ticks\":\"\"}}],\"contour\":[{\"type\":\"contour\",\"colorbar\":{\"outlinewidth\":0,\"ticks\":\"\"},\"colorscale\":[[0.0,\"#0d0887\"],[0.1111111111111111,\"#46039f\"],[0.2222222222222222,\"#7201a8\"],[0.3333333333333333,\"#9c179e\"],[0.4444444444444444,\"#bd3786\"],[0.5555555555555556,\"#d8576b\"],[0.6666666666666666,\"#ed7953\"],[0.7777777777777778,\"#fb9f3a\"],[0.8888888888888888,\"#fdca26\"],[1.0,\"#f0f921\"]]}],\"surface\":[{\"type\":\"surface\",\"colorbar\":{\"outlinewidth\":0,\"ticks\":\"\"},\"colorscale\":[[0.0,\"#0d0887\"],[0.1111111111111111,\"#46039f\"],[0.2222222222222222,\"#7201a8\"],[0.3333333333333333,\"#9c179e\"],[0.4444444444444444,\"#bd3786\"],[0.5555555555555556,\"#d8576b\"],[0.6666666666666666,\"#ed7953\"],[0.7777777777777778,\"#fb9f3a\"],[0.8888888888888888,\"#fdca26\"],[1.0,\"#f0f921\"]]}],\"mesh3d\":[{\"type\":\"mesh3d\",\"colorbar\":{\"outlinewidth\":0,\"ticks\":\"\"}}],\"scatter\":[{\"fillpattern\":{\"fillmode\":\"overlay\",\"size\":10,\"solidity\":0.2},\"type\":\"scatter\"}],\"parcoords\":[{\"type\":\"parcoords\",\"line\":{\"colorbar\":{\"outlinewidth\":0,\"ticks\":\"\"}}}],\"scatterpolargl\":[{\"type\":\"scatterpolargl\",\"marker\":{\"colorbar\":{\"outlinewidth\":0,\"ticks\":\"\"}}}],\"bar\":[{\"error_x\":{\"color\":\"#2a3f5f\"},\"error_y\":{\"color\":\"#2a3f5f\"},\"marker\":{\"line\":{\"color\":\"#E5ECF6\",\"width\":0.5},\"pattern\":{\"fillmode\":\"overlay\",\"size\":10,\"solidity\":0.2}},\"type\":\"bar\"}],\"scattergeo\":[{\"type\":\"scattergeo\",\"marker\":{\"colorbar\":{\"outlinewidth\":0,\"ticks\":\"\"}}}],\"scatterpolar\":[{\"type\":\"scatterpolar\",\"marker\":{\"colorbar\":{\"outlinewidth\":0,\"ticks\":\"\"}}}],\"histogram\":[{\"marker\":{\"pattern\":{\"fillmode\":\"overlay\",\"size\":10,\"solidity\":0.2}},\"type\":\"histogram\"}],\"scattergl\":[{\"type\":\"scattergl\",\"marker\":{\"colorbar\":{\"outlinewidth\":0,\"ticks\":\"\"}}}],\"scatter3d\":[{\"type\":\"scatter3d\",\"line\":{\"colorbar\":{\"outlinewidth\":0,\"ticks\":\"\"}},\"marker\":{\"colorbar\":{\"outlinewidth\":0,\"ticks\":\"\"}}}],\"scattermapbox\":[{\"type\":\"scattermapbox\",\"marker\":{\"colorbar\":{\"outlinewidth\":0,\"ticks\":\"\"}}}],\"scatterternary\":[{\"type\":\"scatterternary\",\"marker\":{\"colorbar\":{\"outlinewidth\":0,\"ticks\":\"\"}}}],\"scattercarpet\":[{\"type\":\"scattercarpet\",\"marker\":{\"colorbar\":{\"outlinewidth\":0,\"ticks\":\"\"}}}],\"carpet\":[{\"aaxis\":{\"endlinecolor\":\"#2a3f5f\",\"gridcolor\":\"white\",\"linecolor\":\"white\",\"minorgridcolor\":\"white\",\"startlinecolor\":\"#2a3f5f\"},\"baxis\":{\"endlinecolor\":\"#2a3f5f\",\"gridcolor\":\"white\",\"linecolor\":\"white\",\"minorgridcolor\":\"white\",\"startlinecolor\":\"#2a3f5f\"},\"type\":\"carpet\"}],\"table\":[{\"cells\":{\"fill\":{\"color\":\"#EBF0F8\"},\"line\":{\"color\":\"white\"}},\"header\":{\"fill\":{\"color\":\"#C8D4E3\"},\"line\":{\"color\":\"white\"}},\"type\":\"table\"}],\"barpolar\":[{\"marker\":{\"line\":{\"color\":\"#E5ECF6\",\"width\":0.5},\"pattern\":{\"fillmode\":\"overlay\",\"size\":10,\"solidity\":0.2}},\"type\":\"barpolar\"}],\"pie\":[{\"automargin\":true,\"type\":\"pie\"}]},\"layout\":{\"autotypenumbers\":\"strict\",\"colorway\":[\"#636efa\",\"#EF553B\",\"#00cc96\",\"#ab63fa\",\"#FFA15A\",\"#19d3f3\",\"#FF6692\",\"#B6E880\",\"#FF97FF\",\"#FECB52\"],\"font\":{\"color\":\"#2a3f5f\"},\"hovermode\":\"closest\",\"hoverlabel\":{\"align\":\"left\"},\"paper_bgcolor\":\"white\",\"plot_bgcolor\":\"#E5ECF6\",\"polar\":{\"bgcolor\":\"#E5ECF6\",\"angularaxis\":{\"gridcolor\":\"white\",\"linecolor\":\"white\",\"ticks\":\"\"},\"radialaxis\":{\"gridcolor\":\"white\",\"linecolor\":\"white\",\"ticks\":\"\"}},\"ternary\":{\"bgcolor\":\"#E5ECF6\",\"aaxis\":{\"gridcolor\":\"white\",\"linecolor\":\"white\",\"ticks\":\"\"},\"baxis\":{\"gridcolor\":\"white\",\"linecolor\":\"white\",\"ticks\":\"\"},\"caxis\":{\"gridcolor\":\"white\",\"linecolor\":\"white\",\"ticks\":\"\"}},\"coloraxis\":{\"colorbar\":{\"outlinewidth\":0,\"ticks\":\"\"}},\"colorscale\":{\"sequential\":[[0.0,\"#0d0887\"],[0.1111111111111111,\"#46039f\"],[0.2222222222222222,\"#7201a8\"],[0.3333333333333333,\"#9c179e\"],[0.4444444444444444,\"#bd3786\"],[0.5555555555555556,\"#d8576b\"],[0.6666666666666666,\"#ed7953\"],[0.7777777777777778,\"#fb9f3a\"],[0.8888888888888888,\"#fdca26\"],[1.0,\"#f0f921\"]],\"sequentialminus\":[[0.0,\"#0d0887\"],[0.1111111111111111,\"#46039f\"],[0.2222222222222222,\"#7201a8\"],[0.3333333333333333,\"#9c179e\"],[0.4444444444444444,\"#bd3786\"],[0.5555555555555556,\"#d8576b\"],[0.6666666666666666,\"#ed7953\"],[0.7777777777777778,\"#fb9f3a\"],[0.8888888888888888,\"#fdca26\"],[1.0,\"#f0f921\"]],\"diverging\":[[0,\"#8e0152\"],[0.1,\"#c51b7d\"],[0.2,\"#de77ae\"],[0.3,\"#f1b6da\"],[0.4,\"#fde0ef\"],[0.5,\"#f7f7f7\"],[0.6,\"#e6f5d0\"],[0.7,\"#b8e186\"],[0.8,\"#7fbc41\"],[0.9,\"#4d9221\"],[1,\"#276419\"]]},\"xaxis\":{\"gridcolor\":\"white\",\"linecolor\":\"white\",\"ticks\":\"\",\"title\":{\"standoff\":15},\"zerolinecolor\":\"white\",\"automargin\":true,\"zerolinewidth\":2},\"yaxis\":{\"gridcolor\":\"white\",\"linecolor\":\"white\",\"ticks\":\"\",\"title\":{\"standoff\":15},\"zerolinecolor\":\"white\",\"automargin\":true,\"zerolinewidth\":2},\"scene\":{\"xaxis\":{\"backgroundcolor\":\"#E5ECF6\",\"gridcolor\":\"white\",\"linecolor\":\"white\",\"showbackground\":true,\"ticks\":\"\",\"zerolinecolor\":\"white\",\"gridwidth\":2},\"yaxis\":{\"backgroundcolor\":\"#E5ECF6\",\"gridcolor\":\"white\",\"linecolor\":\"white\",\"showbackground\":true,\"ticks\":\"\",\"zerolinecolor\":\"white\",\"gridwidth\":2},\"zaxis\":{\"backgroundcolor\":\"#E5ECF6\",\"gridcolor\":\"white\",\"linecolor\":\"white\",\"showbackground\":true,\"ticks\":\"\",\"zerolinecolor\":\"white\",\"gridwidth\":2}},\"shapedefaults\":{\"line\":{\"color\":\"#2a3f5f\"}},\"annotationdefaults\":{\"arrowcolor\":\"#2a3f5f\",\"arrowhead\":0,\"arrowwidth\":1},\"geo\":{\"bgcolor\":\"white\",\"landcolor\":\"#E5ECF6\",\"subunitcolor\":\"white\",\"showland\":true,\"showlakes\":true,\"lakecolor\":\"white\"},\"title\":{\"x\":0.05},\"mapbox\":{\"style\":\"light\"}}},\"xaxis\":{\"anchor\":\"y\",\"domain\":[0.0,1.0],\"title\":{\"text\":\"salary_in_usd\"}},\"yaxis\":{\"anchor\":\"x\",\"domain\":[0.0,0.7326],\"title\":{\"text\":\"count\"}},\"xaxis2\":{\"anchor\":\"y2\",\"domain\":[0.0,1.0],\"matches\":\"x\",\"showticklabels\":false,\"showgrid\":true},\"yaxis2\":{\"anchor\":\"x2\",\"domain\":[0.7426,1.0],\"matches\":\"y2\",\"showticklabels\":false,\"showline\":false,\"ticks\":\"\",\"showgrid\":false},\"legend\":{\"title\":{\"text\":\"work_year\"},\"tracegroupgap\":0},\"margin\":{\"t\":60},\"barmode\":\"relative\",\"title\":{\"text\":\"Distribution of Salaries per Year\"},\"width\":850},                        {\"responsive\": true}                    ).then(function(){\n",
       "                            \n",
       "var gd = document.getElementById('423f97da-fe87-48a3-a62b-95576fd3f15e');\n",
       "var x = new MutationObserver(function (mutations, observer) {{\n",
       "        var display = window.getComputedStyle(gd).display;\n",
       "        if (!display || display === 'none') {{\n",
       "            console.log([gd, 'removed!']);\n",
       "            Plotly.purge(gd);\n",
       "            observer.disconnect();\n",
       "        }}\n",
       "}});\n",
       "\n",
       "// Listen for the removal of the full notebook cells\n",
       "var notebookContainer = gd.closest('#notebook-container');\n",
       "if (notebookContainer) {{\n",
       "    x.observe(notebookContainer, {childList: true});\n",
       "}}\n",
       "\n",
       "// Listen for the clearing of the current output cell\n",
       "var outputEl = gd.closest('.output');\n",
       "if (outputEl) {{\n",
       "    x.observe(outputEl, {childList: true});\n",
       "}}\n",
       "\n",
       "                        })                };                });            </script>        </div>"
      ]
     },
     "metadata": {},
     "output_type": "display_data"
    }
   ],
   "source": [
    "fig = px.histogram(df, x = 'salary_in_usd', color = 'work_year', marginal=\"box\", opacity = 0.8,\n",
    "                   color_discrete_sequence = ['black', 'gray', 'blue'])\n",
    "\n",
    "fig.update_layout(width = WIDTH, title_text=\"Distribution of Salaries per Year\")\n",
    "fig.show()"
   ]
  },
  {
   "cell_type": "code",
   "execution_count": 17,
   "id": "d4e40593",
   "metadata": {
    "execution": {
     "iopub.execute_input": "2022-09-08T19:25:16.099315Z",
     "iopub.status.busy": "2022-09-08T19:25:16.098874Z",
     "iopub.status.idle": "2022-09-08T19:25:16.199436Z",
     "shell.execute_reply": "2022-09-08T19:25:16.198393Z"
    },
    "papermill": {
     "duration": 0.122316,
     "end_time": "2022-09-08T19:25:16.201922",
     "exception": false,
     "start_time": "2022-09-08T19:25:16.079606",
     "status": "completed"
    },
    "tags": []
   },
   "outputs": [
    {
     "data": {
      "text/html": [
       "<div>                            <div id=\"cd774c8c-820c-4d45-94c7-5168bc35ca75\" class=\"plotly-graph-div\" style=\"height:500px; width:850px;\"></div>            <script type=\"text/javascript\">                require([\"plotly\"], function(Plotly) {                    window.PLOTLYENV=window.PLOTLYENV || {};                                    if (document.getElementById(\"cd774c8c-820c-4d45-94c7-5168bc35ca75\")) {                    Plotly.newPlot(                        \"cd774c8c-820c-4d45-94c7-5168bc35ca75\",                        [{\"alignmentgroup\":\"True\",\"hovertemplate\":\"x=%{x}<br>y=%{y}<br>color=%{marker.color}<extra></extra>\",\"legendgroup\":\"\",\"marker\":{\"color\":[157500.0,144055.26197183097,125000.0,119059.0,114127.33333333333,108042.66666666667,100000.0,100000.0,100000.0,99823.73333333334,89294.0,85699.0,81887.21428571429,81583.0425531915,72920.75,71665.5,71444.0,66082.5,64114.0,63970.666666666664],\"coloraxis\":\"coloraxis\",\"pattern\":{\"shape\":\"\"}},\"name\":\"\",\"offsetgroup\":\"\",\"orientation\":\"v\",\"showlegend\":false,\"textposition\":\"auto\",\"x\":[\"RUS\",\"USA\",\"NZL\",\"ISR\",\"JPN\",\"AUS\",\"ARE\",\"IRQ\",\"DZA\",\"CAN\",\"SGP\",\"BEL\",\"DEU\",\"GBR\",\"AUT\",\"CHN\",\"IRL\",\"POL\",\"CHE\",\"FRA\"],\"xaxis\":\"x\",\"y\":[157500.0,144055.26197183097,125000.0,119059.0,114127.33333333333,108042.66666666667,100000.0,100000.0,100000.0,99823.73333333334,89294.0,85699.0,81887.21428571429,81583.0425531915,72920.75,71665.5,71444.0,66082.5,64114.0,63970.666666666664],\"yaxis\":\"y\",\"type\":\"bar\"}],                        {\"template\":{\"data\":{\"histogram2dcontour\":[{\"type\":\"histogram2dcontour\",\"colorbar\":{\"outlinewidth\":0,\"ticks\":\"\"},\"colorscale\":[[0.0,\"#0d0887\"],[0.1111111111111111,\"#46039f\"],[0.2222222222222222,\"#7201a8\"],[0.3333333333333333,\"#9c179e\"],[0.4444444444444444,\"#bd3786\"],[0.5555555555555556,\"#d8576b\"],[0.6666666666666666,\"#ed7953\"],[0.7777777777777778,\"#fb9f3a\"],[0.8888888888888888,\"#fdca26\"],[1.0,\"#f0f921\"]]}],\"choropleth\":[{\"type\":\"choropleth\",\"colorbar\":{\"outlinewidth\":0,\"ticks\":\"\"}}],\"histogram2d\":[{\"type\":\"histogram2d\",\"colorbar\":{\"outlinewidth\":0,\"ticks\":\"\"},\"colorscale\":[[0.0,\"#0d0887\"],[0.1111111111111111,\"#46039f\"],[0.2222222222222222,\"#7201a8\"],[0.3333333333333333,\"#9c179e\"],[0.4444444444444444,\"#bd3786\"],[0.5555555555555556,\"#d8576b\"],[0.6666666666666666,\"#ed7953\"],[0.7777777777777778,\"#fb9f3a\"],[0.8888888888888888,\"#fdca26\"],[1.0,\"#f0f921\"]]}],\"heatmap\":[{\"type\":\"heatmap\",\"colorbar\":{\"outlinewidth\":0,\"ticks\":\"\"},\"colorscale\":[[0.0,\"#0d0887\"],[0.1111111111111111,\"#46039f\"],[0.2222222222222222,\"#7201a8\"],[0.3333333333333333,\"#9c179e\"],[0.4444444444444444,\"#bd3786\"],[0.5555555555555556,\"#d8576b\"],[0.6666666666666666,\"#ed7953\"],[0.7777777777777778,\"#fb9f3a\"],[0.8888888888888888,\"#fdca26\"],[1.0,\"#f0f921\"]]}],\"heatmapgl\":[{\"type\":\"heatmapgl\",\"colorbar\":{\"outlinewidth\":0,\"ticks\":\"\"},\"colorscale\":[[0.0,\"#0d0887\"],[0.1111111111111111,\"#46039f\"],[0.2222222222222222,\"#7201a8\"],[0.3333333333333333,\"#9c179e\"],[0.4444444444444444,\"#bd3786\"],[0.5555555555555556,\"#d8576b\"],[0.6666666666666666,\"#ed7953\"],[0.7777777777777778,\"#fb9f3a\"],[0.8888888888888888,\"#fdca26\"],[1.0,\"#f0f921\"]]}],\"contourcarpet\":[{\"type\":\"contourcarpet\",\"colorbar\":{\"outlinewidth\":0,\"ticks\":\"\"}}],\"contour\":[{\"type\":\"contour\",\"colorbar\":{\"outlinewidth\":0,\"ticks\":\"\"},\"colorscale\":[[0.0,\"#0d0887\"],[0.1111111111111111,\"#46039f\"],[0.2222222222222222,\"#7201a8\"],[0.3333333333333333,\"#9c179e\"],[0.4444444444444444,\"#bd3786\"],[0.5555555555555556,\"#d8576b\"],[0.6666666666666666,\"#ed7953\"],[0.7777777777777778,\"#fb9f3a\"],[0.8888888888888888,\"#fdca26\"],[1.0,\"#f0f921\"]]}],\"surface\":[{\"type\":\"surface\",\"colorbar\":{\"outlinewidth\":0,\"ticks\":\"\"},\"colorscale\":[[0.0,\"#0d0887\"],[0.1111111111111111,\"#46039f\"],[0.2222222222222222,\"#7201a8\"],[0.3333333333333333,\"#9c179e\"],[0.4444444444444444,\"#bd3786\"],[0.5555555555555556,\"#d8576b\"],[0.6666666666666666,\"#ed7953\"],[0.7777777777777778,\"#fb9f3a\"],[0.8888888888888888,\"#fdca26\"],[1.0,\"#f0f921\"]]}],\"mesh3d\":[{\"type\":\"mesh3d\",\"colorbar\":{\"outlinewidth\":0,\"ticks\":\"\"}}],\"scatter\":[{\"fillpattern\":{\"fillmode\":\"overlay\",\"size\":10,\"solidity\":0.2},\"type\":\"scatter\"}],\"parcoords\":[{\"type\":\"parcoords\",\"line\":{\"colorbar\":{\"outlinewidth\":0,\"ticks\":\"\"}}}],\"scatterpolargl\":[{\"type\":\"scatterpolargl\",\"marker\":{\"colorbar\":{\"outlinewidth\":0,\"ticks\":\"\"}}}],\"bar\":[{\"error_x\":{\"color\":\"#2a3f5f\"},\"error_y\":{\"color\":\"#2a3f5f\"},\"marker\":{\"line\":{\"color\":\"#E5ECF6\",\"width\":0.5},\"pattern\":{\"fillmode\":\"overlay\",\"size\":10,\"solidity\":0.2}},\"type\":\"bar\"}],\"scattergeo\":[{\"type\":\"scattergeo\",\"marker\":{\"colorbar\":{\"outlinewidth\":0,\"ticks\":\"\"}}}],\"scatterpolar\":[{\"type\":\"scatterpolar\",\"marker\":{\"colorbar\":{\"outlinewidth\":0,\"ticks\":\"\"}}}],\"histogram\":[{\"marker\":{\"pattern\":{\"fillmode\":\"overlay\",\"size\":10,\"solidity\":0.2}},\"type\":\"histogram\"}],\"scattergl\":[{\"type\":\"scattergl\",\"marker\":{\"colorbar\":{\"outlinewidth\":0,\"ticks\":\"\"}}}],\"scatter3d\":[{\"type\":\"scatter3d\",\"line\":{\"colorbar\":{\"outlinewidth\":0,\"ticks\":\"\"}},\"marker\":{\"colorbar\":{\"outlinewidth\":0,\"ticks\":\"\"}}}],\"scattermapbox\":[{\"type\":\"scattermapbox\",\"marker\":{\"colorbar\":{\"outlinewidth\":0,\"ticks\":\"\"}}}],\"scatterternary\":[{\"type\":\"scatterternary\",\"marker\":{\"colorbar\":{\"outlinewidth\":0,\"ticks\":\"\"}}}],\"scattercarpet\":[{\"type\":\"scattercarpet\",\"marker\":{\"colorbar\":{\"outlinewidth\":0,\"ticks\":\"\"}}}],\"carpet\":[{\"aaxis\":{\"endlinecolor\":\"#2a3f5f\",\"gridcolor\":\"white\",\"linecolor\":\"white\",\"minorgridcolor\":\"white\",\"startlinecolor\":\"#2a3f5f\"},\"baxis\":{\"endlinecolor\":\"#2a3f5f\",\"gridcolor\":\"white\",\"linecolor\":\"white\",\"minorgridcolor\":\"white\",\"startlinecolor\":\"#2a3f5f\"},\"type\":\"carpet\"}],\"table\":[{\"cells\":{\"fill\":{\"color\":\"#EBF0F8\"},\"line\":{\"color\":\"white\"}},\"header\":{\"fill\":{\"color\":\"#C8D4E3\"},\"line\":{\"color\":\"white\"}},\"type\":\"table\"}],\"barpolar\":[{\"marker\":{\"line\":{\"color\":\"#E5ECF6\",\"width\":0.5},\"pattern\":{\"fillmode\":\"overlay\",\"size\":10,\"solidity\":0.2}},\"type\":\"barpolar\"}],\"pie\":[{\"automargin\":true,\"type\":\"pie\"}]},\"layout\":{\"autotypenumbers\":\"strict\",\"colorway\":[\"#636efa\",\"#EF553B\",\"#00cc96\",\"#ab63fa\",\"#FFA15A\",\"#19d3f3\",\"#FF6692\",\"#B6E880\",\"#FF97FF\",\"#FECB52\"],\"font\":{\"color\":\"#2a3f5f\"},\"hovermode\":\"closest\",\"hoverlabel\":{\"align\":\"left\"},\"paper_bgcolor\":\"white\",\"plot_bgcolor\":\"#E5ECF6\",\"polar\":{\"bgcolor\":\"#E5ECF6\",\"angularaxis\":{\"gridcolor\":\"white\",\"linecolor\":\"white\",\"ticks\":\"\"},\"radialaxis\":{\"gridcolor\":\"white\",\"linecolor\":\"white\",\"ticks\":\"\"}},\"ternary\":{\"bgcolor\":\"#E5ECF6\",\"aaxis\":{\"gridcolor\":\"white\",\"linecolor\":\"white\",\"ticks\":\"\"},\"baxis\":{\"gridcolor\":\"white\",\"linecolor\":\"white\",\"ticks\":\"\"},\"caxis\":{\"gridcolor\":\"white\",\"linecolor\":\"white\",\"ticks\":\"\"}},\"coloraxis\":{\"colorbar\":{\"outlinewidth\":0,\"ticks\":\"\"}},\"colorscale\":{\"sequential\":[[0.0,\"#0d0887\"],[0.1111111111111111,\"#46039f\"],[0.2222222222222222,\"#7201a8\"],[0.3333333333333333,\"#9c179e\"],[0.4444444444444444,\"#bd3786\"],[0.5555555555555556,\"#d8576b\"],[0.6666666666666666,\"#ed7953\"],[0.7777777777777778,\"#fb9f3a\"],[0.8888888888888888,\"#fdca26\"],[1.0,\"#f0f921\"]],\"sequentialminus\":[[0.0,\"#0d0887\"],[0.1111111111111111,\"#46039f\"],[0.2222222222222222,\"#7201a8\"],[0.3333333333333333,\"#9c179e\"],[0.4444444444444444,\"#bd3786\"],[0.5555555555555556,\"#d8576b\"],[0.6666666666666666,\"#ed7953\"],[0.7777777777777778,\"#fb9f3a\"],[0.8888888888888888,\"#fdca26\"],[1.0,\"#f0f921\"]],\"diverging\":[[0,\"#8e0152\"],[0.1,\"#c51b7d\"],[0.2,\"#de77ae\"],[0.3,\"#f1b6da\"],[0.4,\"#fde0ef\"],[0.5,\"#f7f7f7\"],[0.6,\"#e6f5d0\"],[0.7,\"#b8e186\"],[0.8,\"#7fbc41\"],[0.9,\"#4d9221\"],[1,\"#276419\"]]},\"xaxis\":{\"gridcolor\":\"white\",\"linecolor\":\"white\",\"ticks\":\"\",\"title\":{\"standoff\":15},\"zerolinecolor\":\"white\",\"automargin\":true,\"zerolinewidth\":2},\"yaxis\":{\"gridcolor\":\"white\",\"linecolor\":\"white\",\"ticks\":\"\",\"title\":{\"standoff\":15},\"zerolinecolor\":\"white\",\"automargin\":true,\"zerolinewidth\":2},\"scene\":{\"xaxis\":{\"backgroundcolor\":\"#E5ECF6\",\"gridcolor\":\"white\",\"linecolor\":\"white\",\"showbackground\":true,\"ticks\":\"\",\"zerolinecolor\":\"white\",\"gridwidth\":2},\"yaxis\":{\"backgroundcolor\":\"#E5ECF6\",\"gridcolor\":\"white\",\"linecolor\":\"white\",\"showbackground\":true,\"ticks\":\"\",\"zerolinecolor\":\"white\",\"gridwidth\":2},\"zaxis\":{\"backgroundcolor\":\"#E5ECF6\",\"gridcolor\":\"white\",\"linecolor\":\"white\",\"showbackground\":true,\"ticks\":\"\",\"zerolinecolor\":\"white\",\"gridwidth\":2}},\"shapedefaults\":{\"line\":{\"color\":\"#2a3f5f\"}},\"annotationdefaults\":{\"arrowcolor\":\"#2a3f5f\",\"arrowhead\":0,\"arrowwidth\":1},\"geo\":{\"bgcolor\":\"white\",\"landcolor\":\"#E5ECF6\",\"subunitcolor\":\"white\",\"showland\":true,\"showlakes\":true,\"lakecolor\":\"white\"},\"title\":{\"x\":0.05},\"mapbox\":{\"style\":\"light\"}}},\"xaxis\":{\"anchor\":\"y\",\"domain\":[0.0,1.0],\"title\":{\"text\":\"Country\"}},\"yaxis\":{\"anchor\":\"x\",\"domain\":[0.0,1.0],\"title\":{\"text\":\"Salary in USD\"}},\"coloraxis\":{\"colorbar\":{\"title\":{\"text\":\"color\"}},\"colorscale\":[[0.0,\"rgb(230, 240, 240)\"],[0.09090909090909091,\"rgb(191, 221, 229)\"],[0.18181818181818182,\"rgb(156, 201, 226)\"],[0.2727272727272727,\"rgb(129, 180, 227)\"],[0.36363636363636365,\"rgb(115, 154, 228)\"],[0.45454545454545453,\"rgb(117, 127, 221)\"],[0.5454545454545454,\"rgb(120, 100, 202)\"],[0.6363636363636364,\"rgb(119, 74, 175)\"],[0.7272727272727273,\"rgb(113, 50, 141)\"],[0.8181818181818182,\"rgb(100, 31, 104)\"],[0.9090909090909091,\"rgb(80, 20, 66)\"],[1.0,\"rgb(54, 14, 36)\"]]},\"legend\":{\"tracegroupgap\":0},\"margin\":{\"t\":60},\"barmode\":\"relative\",\"title\":{\"text\":\"TOP 20 Salary by Company Location\"},\"width\":850,\"height\":500},                        {\"responsive\": true}                    ).then(function(){\n",
       "                            \n",
       "var gd = document.getElementById('cd774c8c-820c-4d45-94c7-5168bc35ca75');\n",
       "var x = new MutationObserver(function (mutations, observer) {{\n",
       "        var display = window.getComputedStyle(gd).display;\n",
       "        if (!display || display === 'none') {{\n",
       "            console.log([gd, 'removed!']);\n",
       "            Plotly.purge(gd);\n",
       "            observer.disconnect();\n",
       "        }}\n",
       "}});\n",
       "\n",
       "// Listen for the removal of the full notebook cells\n",
       "var notebookContainer = gd.closest('#notebook-container');\n",
       "if (notebookContainer) {{\n",
       "    x.observe(notebookContainer, {childList: true});\n",
       "}}\n",
       "\n",
       "// Listen for the clearing of the current output cell\n",
       "var outputEl = gd.closest('.output');\n",
       "if (outputEl) {{\n",
       "    x.observe(outputEl, {childList: true});\n",
       "}}\n",
       "\n",
       "                        })                };                });            </script>        </div>"
      ]
     },
     "metadata": {},
     "output_type": "display_data"
    }
   ],
   "source": [
    "df_mean = df.groupby('company_location')[['salary_in_usd']].mean().sort_values('salary_in_usd', ascending = False)\n",
    "fig_bar = px.bar(x = df_mean.head(20).index, y = df_mean.head(20).salary_in_usd, color = df_mean.head(20).salary_in_usd, color_continuous_scale='dense')\n",
    "fig_bar.update_layout(width = WIDTH, height = 500, title_text=\"TOP 20 Salary by Company Location\")\n",
    "fig_bar.update_xaxes(title = 'Country')\n",
    "fig_bar.update_yaxes(title = 'Salary in USD')\n",
    "fig_bar.show()"
   ]
  },
  {
   "cell_type": "markdown",
   "id": "aa5f4689",
   "metadata": {
    "papermill": {
     "duration": 0.017493,
     "end_time": "2022-09-08T19:25:16.238124",
     "exception": false,
     "start_time": "2022-09-08T19:25:16.220631",
     "status": "completed"
    },
    "tags": []
   },
   "source": []
  },
  {
   "cell_type": "code",
   "execution_count": 18,
   "id": "3da4ba48",
   "metadata": {
    "execution": {
     "iopub.execute_input": "2022-09-08T19:25:16.276020Z",
     "iopub.status.busy": "2022-09-08T19:25:16.275306Z",
     "iopub.status.idle": "2022-09-08T19:25:16.358226Z",
     "shell.execute_reply": "2022-09-08T19:25:16.357145Z"
    },
    "papermill": {
     "duration": 0.104925,
     "end_time": "2022-09-08T19:25:16.360968",
     "exception": false,
     "start_time": "2022-09-08T19:25:16.256043",
     "status": "completed"
    },
    "tags": []
   },
   "outputs": [
    {
     "data": {
      "text/html": [
       "<div>                            <div id=\"9876e538-7c75-4f8b-9906-b65a49e090c2\" class=\"plotly-graph-div\" style=\"height:600px; width:850px;\"></div>            <script type=\"text/javascript\">                require([\"plotly\"], function(Plotly) {                    window.PLOTLYENV=window.PLOTLYENV || {};                                    if (document.getElementById(\"9876e538-7c75-4f8b-9906-b65a49e090c2\")) {                    Plotly.newPlot(                        \"9876e538-7c75-4f8b-9906-b65a49e090c2\",                        [{\"coloraxis\":\"coloraxis\",\"geo\":\"geo\",\"hovertemplate\":\"locations=%{location}<br>color=%{z}<extra></extra>\",\"locations\":[\"RUS\",\"USA\",\"NZL\",\"ISR\",\"JPN\",\"AUS\",\"ARE\",\"IRQ\",\"DZA\",\"CAN\",\"SGP\",\"BEL\",\"DEU\",\"GBR\",\"AUT\",\"CHN\",\"IRL\",\"POL\",\"CHE\",\"FRA\",\"SVN\",\"ROU\",\"NLD\",\"DNK\",\"ESP\",\"GRC\",\"CZE\",\"PRT\",\"HRV\",\"LUX\",\"CHL\",\"MYS\",\"ITA\",\"HUN\",\"EST\",\"MEX\",\"NGA\",\"IND\",\"MLT\",\"COL\",\"TUR\",\"HND\",\"BRA\",\"ASM\",\"MDA\",\"UKR\",\"PAK\",\"KEN\",\"IRN\",\"VNM\"],\"name\":\"\",\"z\":[157500.0,144055.26197183097,125000.0,119059.0,114127.33333333333,108042.66666666667,100000.0,100000.0,100000.0,99823.73333333334,89294.0,85699.0,81887.21428571429,81583.0425531915,72920.75,71665.5,71444.0,66082.5,64114.0,63970.666666666664,63831.0,60000.0,54945.75,54386.333333333336,53060.142857142855,52293.09090909091,50937.0,47793.75,45618.0,43942.666666666664,40038.0,40000.0,36366.5,35735.0,32974.0,32123.333333333332,30000.0,28581.75,28369.0,21844.0,20096.666666666668,20000.0,18602.666666666668,18053.0,18000.0,13400.0,13333.333333333334,9272.0,4000.0,4000.0],\"type\":\"choropleth\"}],                        {\"template\":{\"data\":{\"histogram2dcontour\":[{\"type\":\"histogram2dcontour\",\"colorbar\":{\"outlinewidth\":0,\"ticks\":\"\"},\"colorscale\":[[0.0,\"#0d0887\"],[0.1111111111111111,\"#46039f\"],[0.2222222222222222,\"#7201a8\"],[0.3333333333333333,\"#9c179e\"],[0.4444444444444444,\"#bd3786\"],[0.5555555555555556,\"#d8576b\"],[0.6666666666666666,\"#ed7953\"],[0.7777777777777778,\"#fb9f3a\"],[0.8888888888888888,\"#fdca26\"],[1.0,\"#f0f921\"]]}],\"choropleth\":[{\"type\":\"choropleth\",\"colorbar\":{\"outlinewidth\":0,\"ticks\":\"\"}}],\"histogram2d\":[{\"type\":\"histogram2d\",\"colorbar\":{\"outlinewidth\":0,\"ticks\":\"\"},\"colorscale\":[[0.0,\"#0d0887\"],[0.1111111111111111,\"#46039f\"],[0.2222222222222222,\"#7201a8\"],[0.3333333333333333,\"#9c179e\"],[0.4444444444444444,\"#bd3786\"],[0.5555555555555556,\"#d8576b\"],[0.6666666666666666,\"#ed7953\"],[0.7777777777777778,\"#fb9f3a\"],[0.8888888888888888,\"#fdca26\"],[1.0,\"#f0f921\"]]}],\"heatmap\":[{\"type\":\"heatmap\",\"colorbar\":{\"outlinewidth\":0,\"ticks\":\"\"},\"colorscale\":[[0.0,\"#0d0887\"],[0.1111111111111111,\"#46039f\"],[0.2222222222222222,\"#7201a8\"],[0.3333333333333333,\"#9c179e\"],[0.4444444444444444,\"#bd3786\"],[0.5555555555555556,\"#d8576b\"],[0.6666666666666666,\"#ed7953\"],[0.7777777777777778,\"#fb9f3a\"],[0.8888888888888888,\"#fdca26\"],[1.0,\"#f0f921\"]]}],\"heatmapgl\":[{\"type\":\"heatmapgl\",\"colorbar\":{\"outlinewidth\":0,\"ticks\":\"\"},\"colorscale\":[[0.0,\"#0d0887\"],[0.1111111111111111,\"#46039f\"],[0.2222222222222222,\"#7201a8\"],[0.3333333333333333,\"#9c179e\"],[0.4444444444444444,\"#bd3786\"],[0.5555555555555556,\"#d8576b\"],[0.6666666666666666,\"#ed7953\"],[0.7777777777777778,\"#fb9f3a\"],[0.8888888888888888,\"#fdca26\"],[1.0,\"#f0f921\"]]}],\"contourcarpet\":[{\"type\":\"contourcarpet\",\"colorbar\":{\"outlinewidth\":0,\"ticks\":\"\"}}],\"contour\":[{\"type\":\"contour\",\"colorbar\":{\"outlinewidth\":0,\"ticks\":\"\"},\"colorscale\":[[0.0,\"#0d0887\"],[0.1111111111111111,\"#46039f\"],[0.2222222222222222,\"#7201a8\"],[0.3333333333333333,\"#9c179e\"],[0.4444444444444444,\"#bd3786\"],[0.5555555555555556,\"#d8576b\"],[0.6666666666666666,\"#ed7953\"],[0.7777777777777778,\"#fb9f3a\"],[0.8888888888888888,\"#fdca26\"],[1.0,\"#f0f921\"]]}],\"surface\":[{\"type\":\"surface\",\"colorbar\":{\"outlinewidth\":0,\"ticks\":\"\"},\"colorscale\":[[0.0,\"#0d0887\"],[0.1111111111111111,\"#46039f\"],[0.2222222222222222,\"#7201a8\"],[0.3333333333333333,\"#9c179e\"],[0.4444444444444444,\"#bd3786\"],[0.5555555555555556,\"#d8576b\"],[0.6666666666666666,\"#ed7953\"],[0.7777777777777778,\"#fb9f3a\"],[0.8888888888888888,\"#fdca26\"],[1.0,\"#f0f921\"]]}],\"mesh3d\":[{\"type\":\"mesh3d\",\"colorbar\":{\"outlinewidth\":0,\"ticks\":\"\"}}],\"scatter\":[{\"fillpattern\":{\"fillmode\":\"overlay\",\"size\":10,\"solidity\":0.2},\"type\":\"scatter\"}],\"parcoords\":[{\"type\":\"parcoords\",\"line\":{\"colorbar\":{\"outlinewidth\":0,\"ticks\":\"\"}}}],\"scatterpolargl\":[{\"type\":\"scatterpolargl\",\"marker\":{\"colorbar\":{\"outlinewidth\":0,\"ticks\":\"\"}}}],\"bar\":[{\"error_x\":{\"color\":\"#2a3f5f\"},\"error_y\":{\"color\":\"#2a3f5f\"},\"marker\":{\"line\":{\"color\":\"#E5ECF6\",\"width\":0.5},\"pattern\":{\"fillmode\":\"overlay\",\"size\":10,\"solidity\":0.2}},\"type\":\"bar\"}],\"scattergeo\":[{\"type\":\"scattergeo\",\"marker\":{\"colorbar\":{\"outlinewidth\":0,\"ticks\":\"\"}}}],\"scatterpolar\":[{\"type\":\"scatterpolar\",\"marker\":{\"colorbar\":{\"outlinewidth\":0,\"ticks\":\"\"}}}],\"histogram\":[{\"marker\":{\"pattern\":{\"fillmode\":\"overlay\",\"size\":10,\"solidity\":0.2}},\"type\":\"histogram\"}],\"scattergl\":[{\"type\":\"scattergl\",\"marker\":{\"colorbar\":{\"outlinewidth\":0,\"ticks\":\"\"}}}],\"scatter3d\":[{\"type\":\"scatter3d\",\"line\":{\"colorbar\":{\"outlinewidth\":0,\"ticks\":\"\"}},\"marker\":{\"colorbar\":{\"outlinewidth\":0,\"ticks\":\"\"}}}],\"scattermapbox\":[{\"type\":\"scattermapbox\",\"marker\":{\"colorbar\":{\"outlinewidth\":0,\"ticks\":\"\"}}}],\"scatterternary\":[{\"type\":\"scatterternary\",\"marker\":{\"colorbar\":{\"outlinewidth\":0,\"ticks\":\"\"}}}],\"scattercarpet\":[{\"type\":\"scattercarpet\",\"marker\":{\"colorbar\":{\"outlinewidth\":0,\"ticks\":\"\"}}}],\"carpet\":[{\"aaxis\":{\"endlinecolor\":\"#2a3f5f\",\"gridcolor\":\"white\",\"linecolor\":\"white\",\"minorgridcolor\":\"white\",\"startlinecolor\":\"#2a3f5f\"},\"baxis\":{\"endlinecolor\":\"#2a3f5f\",\"gridcolor\":\"white\",\"linecolor\":\"white\",\"minorgridcolor\":\"white\",\"startlinecolor\":\"#2a3f5f\"},\"type\":\"carpet\"}],\"table\":[{\"cells\":{\"fill\":{\"color\":\"#EBF0F8\"},\"line\":{\"color\":\"white\"}},\"header\":{\"fill\":{\"color\":\"#C8D4E3\"},\"line\":{\"color\":\"white\"}},\"type\":\"table\"}],\"barpolar\":[{\"marker\":{\"line\":{\"color\":\"#E5ECF6\",\"width\":0.5},\"pattern\":{\"fillmode\":\"overlay\",\"size\":10,\"solidity\":0.2}},\"type\":\"barpolar\"}],\"pie\":[{\"automargin\":true,\"type\":\"pie\"}]},\"layout\":{\"autotypenumbers\":\"strict\",\"colorway\":[\"#636efa\",\"#EF553B\",\"#00cc96\",\"#ab63fa\",\"#FFA15A\",\"#19d3f3\",\"#FF6692\",\"#B6E880\",\"#FF97FF\",\"#FECB52\"],\"font\":{\"color\":\"#2a3f5f\"},\"hovermode\":\"closest\",\"hoverlabel\":{\"align\":\"left\"},\"paper_bgcolor\":\"white\",\"plot_bgcolor\":\"#E5ECF6\",\"polar\":{\"bgcolor\":\"#E5ECF6\",\"angularaxis\":{\"gridcolor\":\"white\",\"linecolor\":\"white\",\"ticks\":\"\"},\"radialaxis\":{\"gridcolor\":\"white\",\"linecolor\":\"white\",\"ticks\":\"\"}},\"ternary\":{\"bgcolor\":\"#E5ECF6\",\"aaxis\":{\"gridcolor\":\"white\",\"linecolor\":\"white\",\"ticks\":\"\"},\"baxis\":{\"gridcolor\":\"white\",\"linecolor\":\"white\",\"ticks\":\"\"},\"caxis\":{\"gridcolor\":\"white\",\"linecolor\":\"white\",\"ticks\":\"\"}},\"coloraxis\":{\"colorbar\":{\"outlinewidth\":0,\"ticks\":\"\"}},\"colorscale\":{\"sequential\":[[0.0,\"#0d0887\"],[0.1111111111111111,\"#46039f\"],[0.2222222222222222,\"#7201a8\"],[0.3333333333333333,\"#9c179e\"],[0.4444444444444444,\"#bd3786\"],[0.5555555555555556,\"#d8576b\"],[0.6666666666666666,\"#ed7953\"],[0.7777777777777778,\"#fb9f3a\"],[0.8888888888888888,\"#fdca26\"],[1.0,\"#f0f921\"]],\"sequentialminus\":[[0.0,\"#0d0887\"],[0.1111111111111111,\"#46039f\"],[0.2222222222222222,\"#7201a8\"],[0.3333333333333333,\"#9c179e\"],[0.4444444444444444,\"#bd3786\"],[0.5555555555555556,\"#d8576b\"],[0.6666666666666666,\"#ed7953\"],[0.7777777777777778,\"#fb9f3a\"],[0.8888888888888888,\"#fdca26\"],[1.0,\"#f0f921\"]],\"diverging\":[[0,\"#8e0152\"],[0.1,\"#c51b7d\"],[0.2,\"#de77ae\"],[0.3,\"#f1b6da\"],[0.4,\"#fde0ef\"],[0.5,\"#f7f7f7\"],[0.6,\"#e6f5d0\"],[0.7,\"#b8e186\"],[0.8,\"#7fbc41\"],[0.9,\"#4d9221\"],[1,\"#276419\"]]},\"xaxis\":{\"gridcolor\":\"white\",\"linecolor\":\"white\",\"ticks\":\"\",\"title\":{\"standoff\":15},\"zerolinecolor\":\"white\",\"automargin\":true,\"zerolinewidth\":2},\"yaxis\":{\"gridcolor\":\"white\",\"linecolor\":\"white\",\"ticks\":\"\",\"title\":{\"standoff\":15},\"zerolinecolor\":\"white\",\"automargin\":true,\"zerolinewidth\":2},\"scene\":{\"xaxis\":{\"backgroundcolor\":\"#E5ECF6\",\"gridcolor\":\"white\",\"linecolor\":\"white\",\"showbackground\":true,\"ticks\":\"\",\"zerolinecolor\":\"white\",\"gridwidth\":2},\"yaxis\":{\"backgroundcolor\":\"#E5ECF6\",\"gridcolor\":\"white\",\"linecolor\":\"white\",\"showbackground\":true,\"ticks\":\"\",\"zerolinecolor\":\"white\",\"gridwidth\":2},\"zaxis\":{\"backgroundcolor\":\"#E5ECF6\",\"gridcolor\":\"white\",\"linecolor\":\"white\",\"showbackground\":true,\"ticks\":\"\",\"zerolinecolor\":\"white\",\"gridwidth\":2}},\"shapedefaults\":{\"line\":{\"color\":\"#2a3f5f\"}},\"annotationdefaults\":{\"arrowcolor\":\"#2a3f5f\",\"arrowhead\":0,\"arrowwidth\":1},\"geo\":{\"bgcolor\":\"white\",\"landcolor\":\"#E5ECF6\",\"subunitcolor\":\"white\",\"showland\":true,\"showlakes\":true,\"lakecolor\":\"white\"},\"title\":{\"x\":0.05},\"mapbox\":{\"style\":\"light\"}}},\"geo\":{\"domain\":{\"x\":[0.0,1.0],\"y\":[0.0,1.0]},\"center\":{}},\"coloraxis\":{\"colorbar\":{\"title\":{\"text\":\"color\"}},\"colorscale\":[[0.0,\"rgb(230, 240, 240)\"],[0.09090909090909091,\"rgb(191, 221, 229)\"],[0.18181818181818182,\"rgb(156, 201, 226)\"],[0.2727272727272727,\"rgb(129, 180, 227)\"],[0.36363636363636365,\"rgb(115, 154, 228)\"],[0.45454545454545453,\"rgb(117, 127, 221)\"],[0.5454545454545454,\"rgb(120, 100, 202)\"],[0.6363636363636364,\"rgb(119, 74, 175)\"],[0.7272727272727273,\"rgb(113, 50, 141)\"],[0.8181818181818182,\"rgb(100, 31, 104)\"],[0.9090909090909091,\"rgb(80, 20, 66)\"],[1.0,\"rgb(54, 14, 36)\"]]},\"legend\":{\"tracegroupgap\":0},\"title\":{\"text\":\"Salary by Company Location\"},\"width\":850,\"height\":600},                        {\"responsive\": true}                    ).then(function(){\n",
       "                            \n",
       "var gd = document.getElementById('9876e538-7c75-4f8b-9906-b65a49e090c2');\n",
       "var x = new MutationObserver(function (mutations, observer) {{\n",
       "        var display = window.getComputedStyle(gd).display;\n",
       "        if (!display || display === 'none') {{\n",
       "            console.log([gd, 'removed!']);\n",
       "            Plotly.purge(gd);\n",
       "            observer.disconnect();\n",
       "        }}\n",
       "}});\n",
       "\n",
       "// Listen for the removal of the full notebook cells\n",
       "var notebookContainer = gd.closest('#notebook-container');\n",
       "if (notebookContainer) {{\n",
       "    x.observe(notebookContainer, {childList: true});\n",
       "}}\n",
       "\n",
       "// Listen for the clearing of the current output cell\n",
       "var outputEl = gd.closest('.output');\n",
       "if (outputEl) {{\n",
       "    x.observe(outputEl, {childList: true});\n",
       "}}\n",
       "\n",
       "                        })                };                });            </script>        </div>"
      ]
     },
     "metadata": {},
     "output_type": "display_data"
    }
   ],
   "source": [
    "fig = px.choropleth(locations=df_mean.index,\n",
    "                    color=df_mean['salary_in_usd'],\n",
    "                    color_continuous_scale='dense',\n",
    "                    title = 'Mean Salary by Location')\n",
    "\n",
    "\n",
    "fig.update_layout(width = WIDTH, height = 600, title_text=\"Salary by Company Location\")\n",
    "fig.show()\n"
   ]
  },
  {
   "cell_type": "code",
   "execution_count": 19,
   "id": "0f1ccf0c",
   "metadata": {
    "execution": {
     "iopub.execute_input": "2022-09-08T19:25:16.400395Z",
     "iopub.status.busy": "2022-09-08T19:25:16.399213Z",
     "iopub.status.idle": "2022-09-08T19:25:16.417735Z",
     "shell.execute_reply": "2022-09-08T19:25:16.416506Z"
    },
    "papermill": {
     "duration": 0.040634,
     "end_time": "2022-09-08T19:25:16.420350",
     "exception": false,
     "start_time": "2022-09-08T19:25:16.379716",
     "status": "completed"
    },
    "tags": []
   },
   "outputs": [
    {
     "data": {
      "text/html": [
       "<div>                            <div id=\"c31889cc-2945-451b-b570-92ad30dcc9aa\" class=\"plotly-graph-div\" style=\"height:500px; width:850px;\"></div>            <script type=\"text/javascript\">                require([\"plotly\"], function(Plotly) {                    window.PLOTLYENV=window.PLOTLYENV || {};                                    if (document.getElementById(\"c31889cc-2945-451b-b570-92ad30dcc9aa\")) {                    Plotly.newPlot(                        \"c31889cc-2945-451b-b570-92ad30dcc9aa\",                        [{\"marker\":{\"color\":\"black\",\"opacity\":0.8},\"orientation\":\"h\",\"x\":[7,8,8,11,12,16,41,97,132,143],\"y\":[\"Data Analytics Manager\",\"Big Data Engineer\",\"Machine Learning Scientist\",\"Data Architect\",\"Data Science Manager\",\"Research Scientist\",\"Machine Learning Engineer\",\"Data Analyst\",\"Data Engineer\",\"Data Scientist\"],\"type\":\"bar\"}],                        {\"template\":{\"data\":{\"histogram2dcontour\":[{\"type\":\"histogram2dcontour\",\"colorbar\":{\"outlinewidth\":0,\"ticks\":\"\"},\"colorscale\":[[0.0,\"#0d0887\"],[0.1111111111111111,\"#46039f\"],[0.2222222222222222,\"#7201a8\"],[0.3333333333333333,\"#9c179e\"],[0.4444444444444444,\"#bd3786\"],[0.5555555555555556,\"#d8576b\"],[0.6666666666666666,\"#ed7953\"],[0.7777777777777778,\"#fb9f3a\"],[0.8888888888888888,\"#fdca26\"],[1.0,\"#f0f921\"]]}],\"choropleth\":[{\"type\":\"choropleth\",\"colorbar\":{\"outlinewidth\":0,\"ticks\":\"\"}}],\"histogram2d\":[{\"type\":\"histogram2d\",\"colorbar\":{\"outlinewidth\":0,\"ticks\":\"\"},\"colorscale\":[[0.0,\"#0d0887\"],[0.1111111111111111,\"#46039f\"],[0.2222222222222222,\"#7201a8\"],[0.3333333333333333,\"#9c179e\"],[0.4444444444444444,\"#bd3786\"],[0.5555555555555556,\"#d8576b\"],[0.6666666666666666,\"#ed7953\"],[0.7777777777777778,\"#fb9f3a\"],[0.8888888888888888,\"#fdca26\"],[1.0,\"#f0f921\"]]}],\"heatmap\":[{\"type\":\"heatmap\",\"colorbar\":{\"outlinewidth\":0,\"ticks\":\"\"},\"colorscale\":[[0.0,\"#0d0887\"],[0.1111111111111111,\"#46039f\"],[0.2222222222222222,\"#7201a8\"],[0.3333333333333333,\"#9c179e\"],[0.4444444444444444,\"#bd3786\"],[0.5555555555555556,\"#d8576b\"],[0.6666666666666666,\"#ed7953\"],[0.7777777777777778,\"#fb9f3a\"],[0.8888888888888888,\"#fdca26\"],[1.0,\"#f0f921\"]]}],\"heatmapgl\":[{\"type\":\"heatmapgl\",\"colorbar\":{\"outlinewidth\":0,\"ticks\":\"\"},\"colorscale\":[[0.0,\"#0d0887\"],[0.1111111111111111,\"#46039f\"],[0.2222222222222222,\"#7201a8\"],[0.3333333333333333,\"#9c179e\"],[0.4444444444444444,\"#bd3786\"],[0.5555555555555556,\"#d8576b\"],[0.6666666666666666,\"#ed7953\"],[0.7777777777777778,\"#fb9f3a\"],[0.8888888888888888,\"#fdca26\"],[1.0,\"#f0f921\"]]}],\"contourcarpet\":[{\"type\":\"contourcarpet\",\"colorbar\":{\"outlinewidth\":0,\"ticks\":\"\"}}],\"contour\":[{\"type\":\"contour\",\"colorbar\":{\"outlinewidth\":0,\"ticks\":\"\"},\"colorscale\":[[0.0,\"#0d0887\"],[0.1111111111111111,\"#46039f\"],[0.2222222222222222,\"#7201a8\"],[0.3333333333333333,\"#9c179e\"],[0.4444444444444444,\"#bd3786\"],[0.5555555555555556,\"#d8576b\"],[0.6666666666666666,\"#ed7953\"],[0.7777777777777778,\"#fb9f3a\"],[0.8888888888888888,\"#fdca26\"],[1.0,\"#f0f921\"]]}],\"surface\":[{\"type\":\"surface\",\"colorbar\":{\"outlinewidth\":0,\"ticks\":\"\"},\"colorscale\":[[0.0,\"#0d0887\"],[0.1111111111111111,\"#46039f\"],[0.2222222222222222,\"#7201a8\"],[0.3333333333333333,\"#9c179e\"],[0.4444444444444444,\"#bd3786\"],[0.5555555555555556,\"#d8576b\"],[0.6666666666666666,\"#ed7953\"],[0.7777777777777778,\"#fb9f3a\"],[0.8888888888888888,\"#fdca26\"],[1.0,\"#f0f921\"]]}],\"mesh3d\":[{\"type\":\"mesh3d\",\"colorbar\":{\"outlinewidth\":0,\"ticks\":\"\"}}],\"scatter\":[{\"fillpattern\":{\"fillmode\":\"overlay\",\"size\":10,\"solidity\":0.2},\"type\":\"scatter\"}],\"parcoords\":[{\"type\":\"parcoords\",\"line\":{\"colorbar\":{\"outlinewidth\":0,\"ticks\":\"\"}}}],\"scatterpolargl\":[{\"type\":\"scatterpolargl\",\"marker\":{\"colorbar\":{\"outlinewidth\":0,\"ticks\":\"\"}}}],\"bar\":[{\"error_x\":{\"color\":\"#2a3f5f\"},\"error_y\":{\"color\":\"#2a3f5f\"},\"marker\":{\"line\":{\"color\":\"#E5ECF6\",\"width\":0.5},\"pattern\":{\"fillmode\":\"overlay\",\"size\":10,\"solidity\":0.2}},\"type\":\"bar\"}],\"scattergeo\":[{\"type\":\"scattergeo\",\"marker\":{\"colorbar\":{\"outlinewidth\":0,\"ticks\":\"\"}}}],\"scatterpolar\":[{\"type\":\"scatterpolar\",\"marker\":{\"colorbar\":{\"outlinewidth\":0,\"ticks\":\"\"}}}],\"histogram\":[{\"marker\":{\"pattern\":{\"fillmode\":\"overlay\",\"size\":10,\"solidity\":0.2}},\"type\":\"histogram\"}],\"scattergl\":[{\"type\":\"scattergl\",\"marker\":{\"colorbar\":{\"outlinewidth\":0,\"ticks\":\"\"}}}],\"scatter3d\":[{\"type\":\"scatter3d\",\"line\":{\"colorbar\":{\"outlinewidth\":0,\"ticks\":\"\"}},\"marker\":{\"colorbar\":{\"outlinewidth\":0,\"ticks\":\"\"}}}],\"scattermapbox\":[{\"type\":\"scattermapbox\",\"marker\":{\"colorbar\":{\"outlinewidth\":0,\"ticks\":\"\"}}}],\"scatterternary\":[{\"type\":\"scatterternary\",\"marker\":{\"colorbar\":{\"outlinewidth\":0,\"ticks\":\"\"}}}],\"scattercarpet\":[{\"type\":\"scattercarpet\",\"marker\":{\"colorbar\":{\"outlinewidth\":0,\"ticks\":\"\"}}}],\"carpet\":[{\"aaxis\":{\"endlinecolor\":\"#2a3f5f\",\"gridcolor\":\"white\",\"linecolor\":\"white\",\"minorgridcolor\":\"white\",\"startlinecolor\":\"#2a3f5f\"},\"baxis\":{\"endlinecolor\":\"#2a3f5f\",\"gridcolor\":\"white\",\"linecolor\":\"white\",\"minorgridcolor\":\"white\",\"startlinecolor\":\"#2a3f5f\"},\"type\":\"carpet\"}],\"table\":[{\"cells\":{\"fill\":{\"color\":\"#EBF0F8\"},\"line\":{\"color\":\"white\"}},\"header\":{\"fill\":{\"color\":\"#C8D4E3\"},\"line\":{\"color\":\"white\"}},\"type\":\"table\"}],\"barpolar\":[{\"marker\":{\"line\":{\"color\":\"#E5ECF6\",\"width\":0.5},\"pattern\":{\"fillmode\":\"overlay\",\"size\":10,\"solidity\":0.2}},\"type\":\"barpolar\"}],\"pie\":[{\"automargin\":true,\"type\":\"pie\"}]},\"layout\":{\"autotypenumbers\":\"strict\",\"colorway\":[\"#636efa\",\"#EF553B\",\"#00cc96\",\"#ab63fa\",\"#FFA15A\",\"#19d3f3\",\"#FF6692\",\"#B6E880\",\"#FF97FF\",\"#FECB52\"],\"font\":{\"color\":\"#2a3f5f\"},\"hovermode\":\"closest\",\"hoverlabel\":{\"align\":\"left\"},\"paper_bgcolor\":\"white\",\"plot_bgcolor\":\"#E5ECF6\",\"polar\":{\"bgcolor\":\"#E5ECF6\",\"angularaxis\":{\"gridcolor\":\"white\",\"linecolor\":\"white\",\"ticks\":\"\"},\"radialaxis\":{\"gridcolor\":\"white\",\"linecolor\":\"white\",\"ticks\":\"\"}},\"ternary\":{\"bgcolor\":\"#E5ECF6\",\"aaxis\":{\"gridcolor\":\"white\",\"linecolor\":\"white\",\"ticks\":\"\"},\"baxis\":{\"gridcolor\":\"white\",\"linecolor\":\"white\",\"ticks\":\"\"},\"caxis\":{\"gridcolor\":\"white\",\"linecolor\":\"white\",\"ticks\":\"\"}},\"coloraxis\":{\"colorbar\":{\"outlinewidth\":0,\"ticks\":\"\"}},\"colorscale\":{\"sequential\":[[0.0,\"#0d0887\"],[0.1111111111111111,\"#46039f\"],[0.2222222222222222,\"#7201a8\"],[0.3333333333333333,\"#9c179e\"],[0.4444444444444444,\"#bd3786\"],[0.5555555555555556,\"#d8576b\"],[0.6666666666666666,\"#ed7953\"],[0.7777777777777778,\"#fb9f3a\"],[0.8888888888888888,\"#fdca26\"],[1.0,\"#f0f921\"]],\"sequentialminus\":[[0.0,\"#0d0887\"],[0.1111111111111111,\"#46039f\"],[0.2222222222222222,\"#7201a8\"],[0.3333333333333333,\"#9c179e\"],[0.4444444444444444,\"#bd3786\"],[0.5555555555555556,\"#d8576b\"],[0.6666666666666666,\"#ed7953\"],[0.7777777777777778,\"#fb9f3a\"],[0.8888888888888888,\"#fdca26\"],[1.0,\"#f0f921\"]],\"diverging\":[[0,\"#8e0152\"],[0.1,\"#c51b7d\"],[0.2,\"#de77ae\"],[0.3,\"#f1b6da\"],[0.4,\"#fde0ef\"],[0.5,\"#f7f7f7\"],[0.6,\"#e6f5d0\"],[0.7,\"#b8e186\"],[0.8,\"#7fbc41\"],[0.9,\"#4d9221\"],[1,\"#276419\"]]},\"xaxis\":{\"gridcolor\":\"white\",\"linecolor\":\"white\",\"ticks\":\"\",\"title\":{\"standoff\":15},\"zerolinecolor\":\"white\",\"automargin\":true,\"zerolinewidth\":2},\"yaxis\":{\"gridcolor\":\"white\",\"linecolor\":\"white\",\"ticks\":\"\",\"title\":{\"standoff\":15},\"zerolinecolor\":\"white\",\"automargin\":true,\"zerolinewidth\":2},\"scene\":{\"xaxis\":{\"backgroundcolor\":\"#E5ECF6\",\"gridcolor\":\"white\",\"linecolor\":\"white\",\"showbackground\":true,\"ticks\":\"\",\"zerolinecolor\":\"white\",\"gridwidth\":2},\"yaxis\":{\"backgroundcolor\":\"#E5ECF6\",\"gridcolor\":\"white\",\"linecolor\":\"white\",\"showbackground\":true,\"ticks\":\"\",\"zerolinecolor\":\"white\",\"gridwidth\":2},\"zaxis\":{\"backgroundcolor\":\"#E5ECF6\",\"gridcolor\":\"white\",\"linecolor\":\"white\",\"showbackground\":true,\"ticks\":\"\",\"zerolinecolor\":\"white\",\"gridwidth\":2}},\"shapedefaults\":{\"line\":{\"color\":\"#2a3f5f\"}},\"annotationdefaults\":{\"arrowcolor\":\"#2a3f5f\",\"arrowhead\":0,\"arrowwidth\":1},\"geo\":{\"bgcolor\":\"white\",\"landcolor\":\"#E5ECF6\",\"subunitcolor\":\"white\",\"showland\":true,\"showlakes\":true,\"lakecolor\":\"white\"},\"title\":{\"x\":0.05},\"mapbox\":{\"style\":\"light\"}}},\"title\":{\"text\":\"Job Title Distribution\"},\"width\":850,\"height\":500,\"showlegend\":false},                        {\"responsive\": true}                    ).then(function(){\n",
       "                            \n",
       "var gd = document.getElementById('c31889cc-2945-451b-b570-92ad30dcc9aa');\n",
       "var x = new MutationObserver(function (mutations, observer) {{\n",
       "        var display = window.getComputedStyle(gd).display;\n",
       "        if (!display || display === 'none') {{\n",
       "            console.log([gd, 'removed!']);\n",
       "            Plotly.purge(gd);\n",
       "            observer.disconnect();\n",
       "        }}\n",
       "}});\n",
       "\n",
       "// Listen for the removal of the full notebook cells\n",
       "var notebookContainer = gd.closest('#notebook-container');\n",
       "if (notebookContainer) {{\n",
       "    x.observe(notebookContainer, {childList: true});\n",
       "}}\n",
       "\n",
       "// Listen for the clearing of the current output cell\n",
       "var outputEl = gd.closest('.output');\n",
       "if (outputEl) {{\n",
       "    x.observe(outputEl, {childList: true});\n",
       "}}\n",
       "\n",
       "                        })                };                });            </script>        </div>"
      ]
     },
     "metadata": {},
     "output_type": "display_data"
    }
   ],
   "source": [
    "df_jobs = df['job_title'].value_counts(ascending = True).reset_index().tail(10)\n",
    "\n",
    "\n",
    "fig = go.Figure(go.Bar(y = df_jobs['index'], x = df_jobs['job_title'],orientation='h',  marker = dict(color = 'black', opacity = 0.8)))\n",
    "fig.update_layout(width = WIDTH,height = 500, title_text=\"Job Title Distribution\",showlegend=False)\n",
    "fig.show()"
   ]
  },
  {
   "cell_type": "markdown",
   "id": "9ce92b57",
   "metadata": {
    "papermill": {
     "duration": 0.018728,
     "end_time": "2022-09-08T19:25:16.458372",
     "exception": false,
     "start_time": "2022-09-08T19:25:16.439644",
     "status": "completed"
    },
    "tags": []
   },
   "source": [
    "most jobs titles are: Data scientest , Data Engineer , Data Analyst, ML Eng\n",
    "we may try to reduce job titles into 4 or so jobs"
   ]
  },
  {
   "cell_type": "code",
   "execution_count": 20,
   "id": "f421f5ae",
   "metadata": {
    "execution": {
     "iopub.execute_input": "2022-09-08T19:25:16.497536Z",
     "iopub.status.busy": "2022-09-08T19:25:16.497078Z",
     "iopub.status.idle": "2022-09-08T19:25:16.505018Z",
     "shell.execute_reply": "2022-09-08T19:25:16.503899Z"
    },
    "papermill": {
     "duration": 0.030236,
     "end_time": "2022-09-08T19:25:16.507312",
     "exception": false,
     "start_time": "2022-09-08T19:25:16.477076",
     "status": "completed"
    },
    "tags": []
   },
   "outputs": [
    {
     "data": {
      "text/plain": [
       "array(['Data Scientist', 'Machine Learning Scientist',\n",
       "       'Big Data Engineer', 'Product Data Analyst',\n",
       "       'Machine Learning Engineer', 'Data Analyst', 'Lead Data Scientist',\n",
       "       'Business Data Analyst', 'Lead Data Engineer', 'Lead Data Analyst',\n",
       "       'Data Engineer', 'Data Science Consultant', 'BI Data Analyst',\n",
       "       'Director of Data Science', 'Research Scientist',\n",
       "       'Machine Learning Manager', 'Data Engineering Manager',\n",
       "       'Machine Learning Infrastructure Engineer', 'ML Engineer',\n",
       "       'AI Scientist', 'Computer Vision Engineer',\n",
       "       'Principal Data Scientist', 'Data Science Manager', 'Head of Data',\n",
       "       '3D Computer Vision Researcher', 'Data Analytics Engineer',\n",
       "       'Applied Data Scientist', 'Marketing Data Analyst',\n",
       "       'Cloud Data Engineer', 'Financial Data Analyst',\n",
       "       'Computer Vision Software Engineer',\n",
       "       'Director of Data Engineering', 'Data Science Engineer',\n",
       "       'Principal Data Engineer', 'Machine Learning Developer',\n",
       "       'Applied Machine Learning Scientist', 'Data Analytics Manager',\n",
       "       'Head of Data Science', 'Data Specialist', 'Data Architect',\n",
       "       'Finance Data Analyst', 'Principal Data Analyst',\n",
       "       'Big Data Architect', 'Staff Data Scientist', 'Analytics Engineer',\n",
       "       'ETL Developer', 'Head of Machine Learning', 'NLP Engineer',\n",
       "       'Lead Machine Learning Engineer', 'Data Analytics Lead'],\n",
       "      dtype=object)"
      ]
     },
     "execution_count": 20,
     "metadata": {},
     "output_type": "execute_result"
    }
   ],
   "source": [
    "df['job_title'].unique()"
   ]
  },
  {
   "cell_type": "markdown",
   "id": "cb8cbdd7",
   "metadata": {
    "papermill": {
     "duration": 0.018866,
     "end_time": "2022-09-08T19:25:16.544831",
     "exception": false,
     "start_time": "2022-09-08T19:25:16.525965",
     "status": "completed"
    },
    "tags": []
   },
   "source": [
    "## Feature Engineering :"
   ]
  },
  {
   "cell_type": "code",
   "execution_count": 21,
   "id": "9ad43efa",
   "metadata": {
    "execution": {
     "iopub.execute_input": "2022-09-08T19:25:16.584964Z",
     "iopub.status.busy": "2022-09-08T19:25:16.584139Z",
     "iopub.status.idle": "2022-09-08T19:25:16.599083Z",
     "shell.execute_reply": "2022-09-08T19:25:16.598068Z"
    },
    "papermill": {
     "duration": 0.03801,
     "end_time": "2022-09-08T19:25:16.601742",
     "exception": false,
     "start_time": "2022-09-08T19:25:16.563732",
     "status": "completed"
    },
    "tags": []
   },
   "outputs": [],
   "source": [
    "def Feature_Eng(data):\n",
    "    data_c = data.copy()\n",
    "    \n",
    "    ML_Eng = [job for job in data['job_title'].unique() if 'Machine' in job]\n",
    "    Data_Analyst = [ job for job in data['job_title'].unique() if 'Analy' in job ]\n",
    "    Data_Scientest = [ job for job in data['job_title'].unique() if 'Scien' in job ]\n",
    "    \n",
    "    data_c['new_title'] = ''\n",
    "    for i,v in enumerate(data['job_title']):\n",
    "        if v in ML_Eng :\n",
    "            data_c['new_title'][i] = 'ML Engineer'\n",
    "            \n",
    "        elif v in Data_Analyst:\n",
    "            data_c['new_title'][i] = 'Data Analyst'\n",
    "            \n",
    "        elif v in Data_Scientest :\n",
    "            data_c['new_title'][i] = \"Data Scientest\"\n",
    "    \n",
    "        else:\n",
    "            data_c['new_title'][i] = \"Data Engineer\"\n",
    "        \n",
    "    data_c['new_title'] = data_c['new_title'].astype(\"category\")\n",
    "         # now we have only 4 diffrent jobs insted of +25 titles\n",
    "        \n",
    "    ## next will create a feature for 1st,2nd and 3rd world countries wich will depend on \n",
    "    ## Countries GDP that could be found in Wekipidia\n",
    "    \n",
    "    \n",
    "    \n",
    "    First_World = ['CHN','NZL','ISR','JPN','GBR','DEU','FRA','RUS','ITA','BRA']\n",
    "    Second_World = ['AUS','IRN','ESP','MEX','NLD','CHE','TWN']\n",
    "    \n",
    "    data_c['World_Location'] = ''\n",
    "\n",
    "    for i,v in enumerate(data['company_location']):\n",
    "        if v in First_World :\n",
    "            data_c['World_Location'][i] = '1st'\n",
    "\n",
    "        elif v in Second_World:\n",
    "            data_c['World_Location'][i] = '2nd'\n",
    "\n",
    "        else:\n",
    "            data_c['World_Location'][i] = \"3rd\"\n",
    "            \n",
    "\n",
    "    data_c['World_Location'] = data_c['World_Location'].astype(\"category\")\n",
    "    \n",
    "    ## lets try to add new features:\n",
    "    data_c['remote_ratio'] = data_c['remote_ratio'].astype(\"int\")\n",
    "    data_c['company_size'] = data_c['company_size'].map({'S':'0', 'M':'1','L':'2'}).astype('int')\n",
    "\n",
    "    \n",
    "    data_c['country_mean_salary'] = data_c.groupby('company_location')['salary_in_usd'].transform('mean')\n",
    "    data_c['country_min_salary'] = data_c.groupby('company_location')['salary_in_usd'].transform('min')  \n",
    "    data_c['country_max_salary'] = data_c.groupby('company_location')['salary_in_usd'].transform('max')\n",
    "\n",
    "\n",
    "\n",
    "\n",
    "\n",
    "\n",
    "    data_c.drop(['salary_currency','salary'], axis = 1,inplace = True) \n",
    "\n",
    "    return data_c    \n",
    "        \n",
    "        \n",
    "        "
   ]
  },
  {
   "cell_type": "code",
   "execution_count": 22,
   "id": "8dd5f0c5",
   "metadata": {
    "execution": {
     "iopub.execute_input": "2022-09-08T19:25:16.641124Z",
     "iopub.status.busy": "2022-09-08T19:25:16.640744Z",
     "iopub.status.idle": "2022-09-08T19:25:16.646053Z",
     "shell.execute_reply": "2022-09-08T19:25:16.644882Z"
    },
    "papermill": {
     "duration": 0.027351,
     "end_time": "2022-09-08T19:25:16.648314",
     "exception": false,
     "start_time": "2022-09-08T19:25:16.620963",
     "status": "completed"
    },
    "tags": []
   },
   "outputs": [],
   "source": [
    "def drop_uninformative(data, mi_scores):\n",
    "    \n",
    "    return data.loc[:, mi_scores > 0.00]\n",
    "\n",
    "## will drop features with that isn't realated"
   ]
  },
  {
   "cell_type": "code",
   "execution_count": 23,
   "id": "3cb70007",
   "metadata": {
    "execution": {
     "iopub.execute_input": "2022-09-08T19:25:16.687823Z",
     "iopub.status.busy": "2022-09-08T19:25:16.687013Z",
     "iopub.status.idle": "2022-09-08T19:25:16.788443Z",
     "shell.execute_reply": "2022-09-08T19:25:16.787297Z"
    },
    "papermill": {
     "duration": 0.124309,
     "end_time": "2022-09-08T19:25:16.791094",
     "exception": false,
     "start_time": "2022-09-08T19:25:16.666785",
     "status": "completed"
    },
    "tags": []
   },
   "outputs": [],
   "source": [
    "df_copy = df.copy()\n",
    "df_copy= Clean_Data(df_copy)\n",
    "df_copy = Feature_Eng(df_copy)"
   ]
  },
  {
   "cell_type": "code",
   "execution_count": 24,
   "id": "98c06fea",
   "metadata": {
    "execution": {
     "iopub.execute_input": "2022-09-08T19:25:16.830224Z",
     "iopub.status.busy": "2022-09-08T19:25:16.829806Z",
     "iopub.status.idle": "2022-09-08T19:25:16.847168Z",
     "shell.execute_reply": "2022-09-08T19:25:16.846014Z"
    },
    "papermill": {
     "duration": 0.040652,
     "end_time": "2022-09-08T19:25:16.850408",
     "exception": false,
     "start_time": "2022-09-08T19:25:16.809756",
     "status": "completed"
    },
    "tags": []
   },
   "outputs": [
    {
     "name": "stdout",
     "output_type": "stream",
     "text": [
      "<class 'pandas.core.frame.DataFrame'>\n",
      "Int64Index: 607 entries, 0 to 606\n",
      "Data columns (total 14 columns):\n",
      " #   Column               Non-Null Count  Dtype   \n",
      "---  ------               --------------  -----   \n",
      " 0   work_year            607 non-null    category\n",
      " 1   experience_level     607 non-null    category\n",
      " 2   employment_type      607 non-null    category\n",
      " 3   job_title            607 non-null    category\n",
      " 4   salary_in_usd        607 non-null    int64   \n",
      " 5   employee_residence   607 non-null    category\n",
      " 6   remote_ratio         607 non-null    int64   \n",
      " 7   company_location     607 non-null    category\n",
      " 8   company_size         607 non-null    int64   \n",
      " 9   new_title            607 non-null    category\n",
      " 10  World_Location       607 non-null    category\n",
      " 11  country_mean_salary  607 non-null    float64 \n",
      " 12  country_min_salary   607 non-null    int64   \n",
      " 13  country_max_salary   607 non-null    int64   \n",
      "dtypes: category(8), float64(1), int64(5)\n",
      "memory usage: 62.3 KB\n"
     ]
    }
   ],
   "source": [
    "df_copy.info()"
   ]
  },
  {
   "cell_type": "code",
   "execution_count": 25,
   "id": "038ed74e",
   "metadata": {
    "execution": {
     "iopub.execute_input": "2022-09-08T19:25:16.890550Z",
     "iopub.status.busy": "2022-09-08T19:25:16.889907Z",
     "iopub.status.idle": "2022-09-08T19:25:17.263751Z",
     "shell.execute_reply": "2022-09-08T19:25:17.262592Z"
    },
    "papermill": {
     "duration": 0.396711,
     "end_time": "2022-09-08T19:25:17.266616",
     "exception": false,
     "start_time": "2022-09-08T19:25:16.869905",
     "status": "completed"
    },
    "tags": []
   },
   "outputs": [],
   "source": [
    "from sklearn.feature_selection import mutual_info_regression"
   ]
  },
  {
   "cell_type": "code",
   "execution_count": 26,
   "id": "94948002",
   "metadata": {
    "execution": {
     "iopub.execute_input": "2022-09-08T19:25:17.306823Z",
     "iopub.status.busy": "2022-09-08T19:25:17.306029Z",
     "iopub.status.idle": "2022-09-08T19:25:18.112853Z",
     "shell.execute_reply": "2022-09-08T19:25:18.111365Z"
    },
    "papermill": {
     "duration": 0.831193,
     "end_time": "2022-09-08T19:25:18.116605",
     "exception": false,
     "start_time": "2022-09-08T19:25:17.285412",
     "status": "completed"
    },
    "tags": []
   },
   "outputs": [
    {
     "data": {
      "text/plain": [
       "country_max_salary                                    0.453069\n",
       "country_mean_salary                                   0.421333\n",
       "country_min_salary                                    0.386473\n",
       "employee_residence_USA                                0.328366\n",
       "company_location_USA                                  0.287058\n",
       "experience_level_Senior                               0.184811\n",
       "World_Location_3rd                                    0.111339\n",
       "company_location_GBR                                  0.091383\n",
       "work_year_2022                                        0.090798\n",
       "new_title_Data Analyst                                0.087106\n",
       "experience_level_Junior                               0.080174\n",
       "job_title_Data Analyst                                0.077427\n",
       "World_Location_1st                                    0.076801\n",
       "employee_residence_IND                                0.075968\n",
       "work_year_2021                                        0.073204\n",
       "employee_residence_GBR                                0.063285\n",
       "company_location_IND                                  0.061632\n",
       "experience_level_Middle                               0.049977\n",
       "remote_ratio                                          0.047766\n",
       "employment_type_PT                                    0.038892\n",
       "company_size                                          0.037228\n",
       "company_location_ESP                                  0.034744\n",
       "employee_residence_DEU                                0.034658\n",
       "experience_level_Executive                            0.032713\n",
       "job_title_Director of Data Science                    0.031649\n",
       "company_location_CAN                                  0.029774\n",
       "company_location_TUR                                  0.028835\n",
       "employee_residence_BGR                                0.026625\n",
       "employee_residence_AUS                                0.026593\n",
       "company_location_GRC                                  0.026451\n",
       "company_location_AUS                                  0.026346\n",
       "job_title_Principal Data Scientist                    0.025374\n",
       "job_title_Business Data Analyst                       0.022048\n",
       "employee_residence_NLD                                0.021745\n",
       "employee_residence_PRT                                0.021248\n",
       "employee_residence_DNK                                0.020766\n",
       "job_title_Data Scientist                              0.020537\n",
       "World_Location_2nd                                    0.019808\n",
       "job_title_Machine Learning Engineer                   0.019256\n",
       "company_location_DEU                                  0.018938\n",
       "employee_residence_FRA                                0.018484\n",
       "job_title_Data Analytics Manager                      0.018133\n",
       "job_title_Finance Data Analyst                        0.017373\n",
       "job_title_Financial Data Analyst                      0.017034\n",
       "employee_residence_MLT                                0.016878\n",
       "job_title_Data Science Manager                        0.016823\n",
       "company_location_LUX                                  0.016537\n",
       "job_title_Staff Data Scientist                        0.016533\n",
       "new_title_Data Engineer                               0.016505\n",
       "job_title_Data Science Consultant                     0.016300\n",
       "employee_residence_BRA                                0.016266\n",
       "employee_residence_IRL                                0.015449\n",
       "job_title_AI Scientist                                0.015243\n",
       "employee_residence_ESP                                0.014857\n",
       "company_location_SVN                                  0.014841\n",
       "employee_residence_HUN                                0.013587\n",
       "company_location_PRT                                  0.013559\n",
       "employment_type_FT                                    0.013362\n",
       "employee_residence_DZA                                0.013258\n",
       "new_title_ML Engineer                                 0.012520\n",
       "company_location_FRA                                  0.012458\n",
       "job_title_Machine Learning Infrastructure Engineer    0.012452\n",
       "job_title_Lead Machine Learning Engineer              0.012361\n",
       "employee_residence_ARE                                0.012047\n",
       "company_location_AUT                                  0.011149\n",
       "employee_residence_RUS                                0.010980\n",
       "job_title_Data Architect                              0.010756\n",
       "employee_residence_BEL                                0.009836\n",
       "employee_residence_POL                                0.009630\n",
       "job_title_NLP Engineer                                0.009587\n",
       "employee_residence_HND                                0.009184\n",
       "company_location_NGA                                  0.008982\n",
       "job_title_Data Analytics Lead                         0.008282\n",
       "employee_residence_KEN                                0.008135\n",
       "job_title_Head of Data Science                        0.007844\n",
       "employee_residence_PAK                                0.007760\n",
       "employee_residence_HRV                                0.007623\n",
       "job_title_Computer Vision Engineer                    0.007307\n",
       "job_title_Cloud Data Engineer                         0.006960\n",
       "company_location_MYS                                  0.006865\n",
       "employee_residence_SVN                                0.006718\n",
       "job_title_Research Scientist                          0.006680\n",
       "company_location_ITA                                  0.006437\n",
       "employee_residence_PHL                                0.006409\n",
       "employee_residence_NZL                                0.006138\n",
       "job_title_Marketing Data Analyst                      0.006077\n",
       "new_title_Data Scientest                              0.005999\n",
       "employee_residence_LUX                                0.005645\n",
       "company_location_JPN                                  0.005581\n",
       "company_location_RUS                                  0.005537\n",
       "work_year_2020                                        0.005134\n",
       "employee_residence_UKR                                0.004993\n",
       "company_location_CHL                                  0.004676\n",
       "employee_residence_JPN                                0.004590\n",
       "job_title_Machine Learning Developer                  0.004355\n",
       "employee_residence_IRN                                0.004314\n",
       "employee_residence_TUR                                0.003886\n",
       "company_location_NLD                                  0.003873\n",
       "company_location_MDA                                  0.003429\n",
       "company_location_MLT                                  0.003397\n",
       "employee_residence_ROU                                0.003315\n",
       "employee_residence_COL                                0.003037\n",
       "job_title_Product Data Analyst                        0.002999\n",
       "employee_residence_HKG                                0.002940\n",
       "job_title_Principal Data Engineer                     0.002421\n",
       "job_title_Head of Machine Learning                    0.001544\n",
       "company_location_NZL                                  0.001312\n",
       "company_location_IRL                                  0.001265\n",
       "company_location_EST                                  0.001061\n",
       "employee_residence_CAN                                0.000903\n",
       "job_title_Lead Data Engineer                          0.000791\n",
       "company_location_HRV                                  0.000000\n",
       "employment_type_FL                                    0.000000\n",
       "company_location_HND                                  0.000000\n",
       "company_location_IRQ                                  0.000000\n",
       "company_location_HUN                                  0.000000\n",
       "company_location_IRN                                  0.000000\n",
       "job_title_Data Engineering Manager                    0.000000\n",
       "job_title_Data Science Engineer                       0.000000\n",
       "company_location_ISR                                  0.000000\n",
       "employee_residence_CHN                                0.000000\n",
       "company_location_KEN                                  0.000000\n",
       "job_title_Computer Vision Software Engineer           0.000000\n",
       "job_title_BI Data Analyst                             0.000000\n",
       "job_title_Big Data Architect                          0.000000\n",
       "job_title_Big Data Engineer                           0.000000\n",
       "company_location_VNM                                  0.000000\n",
       "employment_type_CT                                    0.000000\n",
       "company_location_UKR                                  0.000000\n",
       "company_location_SGP                                  0.000000\n",
       "job_title_Data Engineer                               0.000000\n",
       "company_location_ROU                                  0.000000\n",
       "job_title_Analytics Engineer                          0.000000\n",
       "company_location_POL                                  0.000000\n",
       "company_location_PAK                                  0.000000\n",
       "job_title_Data Analytics Engineer                     0.000000\n",
       "company_location_MEX                                  0.000000\n",
       "job_title_Data Specialist                             0.000000\n",
       "company_location_BRA                                  0.000000\n",
       "job_title_Director of Data Engineering                0.000000\n",
       "job_title_Machine Learning Scientist                  0.000000\n",
       "employee_residence_MYS                                0.000000\n",
       "employee_residence_MEX                                0.000000\n",
       "employee_residence_MDA                                0.000000\n",
       "job_title_Applied Machine Learning Scientist          0.000000\n",
       "employee_residence_JEY                                0.000000\n",
       "employee_residence_ITA                                0.000000\n",
       "employee_residence_IRQ                                0.000000\n",
       "job_title_Principal Data Analyst                      0.000000\n",
       "job_title_3D Computer Vision Researcher               0.000000\n",
       "employee_residence_GRC                                0.000000\n",
       "employee_residence_ARG                                0.000000\n",
       "employee_residence_AUT                                0.000000\n",
       "employee_residence_EST                                0.000000\n",
       "employee_residence_BOL                                0.000000\n",
       "employee_residence_CHE                                0.000000\n",
       "employee_residence_CHL                                0.000000\n",
       "employee_residence_CZE                                0.000000\n",
       "employee_residence_NGA                                0.000000\n",
       "job_title_Machine Learning Manager                    0.000000\n",
       "company_location_DZA                                  0.000000\n",
       "employee_residence_PRI                                0.000000\n",
       "company_location_DNK                                  0.000000\n",
       "job_title_ETL Developer                               0.000000\n",
       "company_location_CZE                                  0.000000\n",
       "company_location_COL                                  0.000000\n",
       "company_location_CHN                                  0.000000\n",
       "company_location_CHE                                  0.000000\n",
       "job_title_Head of Data                                0.000000\n",
       "company_location_BEL                                  0.000000\n",
       "job_title_Lead Data Analyst                           0.000000\n",
       "company_location_ASM                                  0.000000\n",
       "company_location_ARE                                  0.000000\n",
       "employee_residence_VNM                                0.000000\n",
       "employee_residence_TUN                                0.000000\n",
       "employee_residence_SRB                                0.000000\n",
       "employee_residence_SGP                                0.000000\n",
       "job_title_Lead Data Scientist                         0.000000\n",
       "job_title_ML Engineer                                 0.000000\n",
       "job_title_Applied Data Scientist                      0.000000\n",
       "Name: MI Scores, dtype: float64"
      ]
     },
     "execution_count": 26,
     "metadata": {},
     "output_type": "execute_result"
    }
   ],
   "source": [
    "Y = df_copy['salary_in_usd']\n",
    "df_mi = df_copy.drop('salary_in_usd',axis = 1)\n",
    "df_mi = pd.get_dummies(df_mi)\n",
    "mi_scores = mutual_info_regression(df_mi ,Y, random_state=0)\n",
    "mi_scores = pd.Series(mi_scores, name=\"MI Scores\", index=df_mi.columns)\n",
    "mi_scores = mi_scores.sort_values(ascending=False)\n",
    "mi_scores"
   ]
  },
  {
   "cell_type": "markdown",
   "id": "6d478876",
   "metadata": {
    "papermill": {
     "duration": 0.018557,
     "end_time": "2022-09-08T19:25:18.154373",
     "exception": false,
     "start_time": "2022-09-08T19:25:18.135816",
     "status": "completed"
    },
    "tags": []
   },
   "source": [
    "## PCA:\n"
   ]
  },
  {
   "cell_type": "code",
   "execution_count": 27,
   "id": "ad5281c7",
   "metadata": {
    "execution": {
     "iopub.execute_input": "2022-09-08T19:25:18.194227Z",
     "iopub.status.busy": "2022-09-08T19:25:18.193834Z",
     "iopub.status.idle": "2022-09-08T19:25:18.202655Z",
     "shell.execute_reply": "2022-09-08T19:25:18.201428Z"
    },
    "papermill": {
     "duration": 0.031298,
     "end_time": "2022-09-08T19:25:18.204811",
     "exception": false,
     "start_time": "2022-09-08T19:25:18.173513",
     "status": "completed"
    },
    "tags": []
   },
   "outputs": [],
   "source": [
    "from sklearn.decomposition import PCA\n",
    "from sklearn.preprocessing import StandardScaler\n",
    "\n",
    "def PCA_(data, n):\n",
    "    \n",
    "    df_s = pd.get_dummies(data, drop_first = True)\n",
    "    \n",
    "    #cols = ['country_mean_salary','country_min_salary','country_max_salary']\n",
    "    #df_s[cols] = StandardScaler().fit_transform(df_s[cols])\n",
    "    \n",
    "    \n",
    "    pca = PCA(n_components=n)\n",
    "    x = pca.fit_transform(df_s)\n",
    "    component_names = [f\"PC{i+1}\" for i in range(x.shape[1])]\n",
    "    x = pd.DataFrame(x, columns=component_names)\n",
    "    x2 = df_s.copy()\n",
    "    for k in x.columns:\n",
    "        x2[k] = x['PC1']\n",
    "        for i in range(x.shape[0]):\n",
    "            x2[k][i] = x[k][i]\n",
    "    return x2\n",
    "\n",
    "#PCA could be helpfull but in our case it didn't help much cause the data is small and has so many ouliers"
   ]
  },
  {
   "cell_type": "code",
   "execution_count": 28,
   "id": "864f8c90",
   "metadata": {
    "execution": {
     "iopub.execute_input": "2022-09-08T19:25:18.245582Z",
     "iopub.status.busy": "2022-09-08T19:25:18.244490Z",
     "iopub.status.idle": "2022-09-08T19:25:18.261766Z",
     "shell.execute_reply": "2022-09-08T19:25:18.260615Z"
    },
    "papermill": {
     "duration": 0.040213,
     "end_time": "2022-09-08T19:25:18.264306",
     "exception": false,
     "start_time": "2022-09-08T19:25:18.224093",
     "status": "completed"
    },
    "tags": []
   },
   "outputs": [],
   "source": [
    "df_copy = pd.get_dummies(df_copy)\n",
    "Y= df_copy['salary_in_usd']\n",
    "X = df_copy.drop('salary_in_usd',axis = 1)\n",
    "\n",
    "#X = PCA_(X,5)"
   ]
  },
  {
   "cell_type": "code",
   "execution_count": 29,
   "id": "9324d1cc",
   "metadata": {
    "execution": {
     "iopub.execute_input": "2022-09-08T19:25:18.304251Z",
     "iopub.status.busy": "2022-09-08T19:25:18.303595Z",
     "iopub.status.idle": "2022-09-08T19:25:18.324125Z",
     "shell.execute_reply": "2022-09-08T19:25:18.322968Z"
    },
    "papermill": {
     "duration": 0.043234,
     "end_time": "2022-09-08T19:25:18.326532",
     "exception": false,
     "start_time": "2022-09-08T19:25:18.283298",
     "status": "completed"
    },
    "tags": []
   },
   "outputs": [
    {
     "data": {
      "text/html": [
       "<div>\n",
       "<style scoped>\n",
       "    .dataframe tbody tr th:only-of-type {\n",
       "        vertical-align: middle;\n",
       "    }\n",
       "\n",
       "    .dataframe tbody tr th {\n",
       "        vertical-align: top;\n",
       "    }\n",
       "\n",
       "    .dataframe thead th {\n",
       "        text-align: right;\n",
       "    }\n",
       "</style>\n",
       "<table border=\"1\" class=\"dataframe\">\n",
       "  <thead>\n",
       "    <tr style=\"text-align: right;\">\n",
       "      <th></th>\n",
       "      <th>remote_ratio</th>\n",
       "      <th>company_size</th>\n",
       "      <th>country_mean_salary</th>\n",
       "      <th>country_min_salary</th>\n",
       "      <th>country_max_salary</th>\n",
       "      <th>work_year_2020</th>\n",
       "      <th>work_year_2021</th>\n",
       "      <th>work_year_2022</th>\n",
       "      <th>experience_level_Executive</th>\n",
       "      <th>experience_level_Junior</th>\n",
       "      <th>...</th>\n",
       "      <th>company_location_UKR</th>\n",
       "      <th>company_location_USA</th>\n",
       "      <th>company_location_VNM</th>\n",
       "      <th>new_title_Data Analyst</th>\n",
       "      <th>new_title_Data Engineer</th>\n",
       "      <th>new_title_Data Scientest</th>\n",
       "      <th>new_title_ML Engineer</th>\n",
       "      <th>World_Location_1st</th>\n",
       "      <th>World_Location_2nd</th>\n",
       "      <th>World_Location_3rd</th>\n",
       "    </tr>\n",
       "  </thead>\n",
       "  <tbody>\n",
       "    <tr>\n",
       "      <th>0</th>\n",
       "      <td>0</td>\n",
       "      <td>2</td>\n",
       "      <td>81887.214286</td>\n",
       "      <td>15966</td>\n",
       "      <td>173762</td>\n",
       "      <td>1</td>\n",
       "      <td>0</td>\n",
       "      <td>0</td>\n",
       "      <td>0</td>\n",
       "      <td>0</td>\n",
       "      <td>...</td>\n",
       "      <td>0</td>\n",
       "      <td>0</td>\n",
       "      <td>0</td>\n",
       "      <td>0</td>\n",
       "      <td>0</td>\n",
       "      <td>1</td>\n",
       "      <td>0</td>\n",
       "      <td>1</td>\n",
       "      <td>0</td>\n",
       "      <td>0</td>\n",
       "    </tr>\n",
       "    <tr>\n",
       "      <th>1</th>\n",
       "      <td>0</td>\n",
       "      <td>0</td>\n",
       "      <td>114127.333333</td>\n",
       "      <td>41689</td>\n",
       "      <td>260000</td>\n",
       "      <td>1</td>\n",
       "      <td>0</td>\n",
       "      <td>0</td>\n",
       "      <td>0</td>\n",
       "      <td>0</td>\n",
       "      <td>...</td>\n",
       "      <td>0</td>\n",
       "      <td>0</td>\n",
       "      <td>0</td>\n",
       "      <td>0</td>\n",
       "      <td>0</td>\n",
       "      <td>0</td>\n",
       "      <td>1</td>\n",
       "      <td>1</td>\n",
       "      <td>0</td>\n",
       "      <td>0</td>\n",
       "    </tr>\n",
       "    <tr>\n",
       "      <th>2</th>\n",
       "      <td>1</td>\n",
       "      <td>1</td>\n",
       "      <td>81583.042553</td>\n",
       "      <td>37300</td>\n",
       "      <td>183228</td>\n",
       "      <td>1</td>\n",
       "      <td>0</td>\n",
       "      <td>0</td>\n",
       "      <td>0</td>\n",
       "      <td>0</td>\n",
       "      <td>...</td>\n",
       "      <td>0</td>\n",
       "      <td>0</td>\n",
       "      <td>0</td>\n",
       "      <td>0</td>\n",
       "      <td>1</td>\n",
       "      <td>0</td>\n",
       "      <td>0</td>\n",
       "      <td>1</td>\n",
       "      <td>0</td>\n",
       "      <td>0</td>\n",
       "    </tr>\n",
       "    <tr>\n",
       "      <th>3</th>\n",
       "      <td>0</td>\n",
       "      <td>0</td>\n",
       "      <td>20000.000000</td>\n",
       "      <td>20000</td>\n",
       "      <td>20000</td>\n",
       "      <td>1</td>\n",
       "      <td>0</td>\n",
       "      <td>0</td>\n",
       "      <td>0</td>\n",
       "      <td>0</td>\n",
       "      <td>...</td>\n",
       "      <td>0</td>\n",
       "      <td>0</td>\n",
       "      <td>0</td>\n",
       "      <td>1</td>\n",
       "      <td>0</td>\n",
       "      <td>0</td>\n",
       "      <td>0</td>\n",
       "      <td>0</td>\n",
       "      <td>0</td>\n",
       "      <td>1</td>\n",
       "    </tr>\n",
       "    <tr>\n",
       "      <th>4</th>\n",
       "      <td>1</td>\n",
       "      <td>2</td>\n",
       "      <td>144055.261972</td>\n",
       "      <td>5679</td>\n",
       "      <td>600000</td>\n",
       "      <td>1</td>\n",
       "      <td>0</td>\n",
       "      <td>0</td>\n",
       "      <td>0</td>\n",
       "      <td>0</td>\n",
       "      <td>...</td>\n",
       "      <td>0</td>\n",
       "      <td>1</td>\n",
       "      <td>0</td>\n",
       "      <td>0</td>\n",
       "      <td>0</td>\n",
       "      <td>0</td>\n",
       "      <td>1</td>\n",
       "      <td>0</td>\n",
       "      <td>0</td>\n",
       "      <td>1</td>\n",
       "    </tr>\n",
       "  </tbody>\n",
       "</table>\n",
       "<p>5 rows × 180 columns</p>\n",
       "</div>"
      ],
      "text/plain": [
       "   remote_ratio  company_size  country_mean_salary  country_min_salary  \\\n",
       "0             0             2         81887.214286               15966   \n",
       "1             0             0        114127.333333               41689   \n",
       "2             1             1         81583.042553               37300   \n",
       "3             0             0         20000.000000               20000   \n",
       "4             1             2        144055.261972                5679   \n",
       "\n",
       "   country_max_salary  work_year_2020  work_year_2021  work_year_2022  \\\n",
       "0              173762               1               0               0   \n",
       "1              260000               1               0               0   \n",
       "2              183228               1               0               0   \n",
       "3               20000               1               0               0   \n",
       "4              600000               1               0               0   \n",
       "\n",
       "   experience_level_Executive  experience_level_Junior  ...  \\\n",
       "0                           0                        0  ...   \n",
       "1                           0                        0  ...   \n",
       "2                           0                        0  ...   \n",
       "3                           0                        0  ...   \n",
       "4                           0                        0  ...   \n",
       "\n",
       "   company_location_UKR  company_location_USA  company_location_VNM  \\\n",
       "0                     0                     0                     0   \n",
       "1                     0                     0                     0   \n",
       "2                     0                     0                     0   \n",
       "3                     0                     0                     0   \n",
       "4                     0                     1                     0   \n",
       "\n",
       "   new_title_Data Analyst  new_title_Data Engineer  new_title_Data Scientest  \\\n",
       "0                       0                        0                         1   \n",
       "1                       0                        0                         0   \n",
       "2                       0                        1                         0   \n",
       "3                       1                        0                         0   \n",
       "4                       0                        0                         0   \n",
       "\n",
       "   new_title_ML Engineer  World_Location_1st  World_Location_2nd  \\\n",
       "0                      0                   1                   0   \n",
       "1                      1                   1                   0   \n",
       "2                      0                   1                   0   \n",
       "3                      0                   0                   0   \n",
       "4                      1                   0                   0   \n",
       "\n",
       "   World_Location_3rd  \n",
       "0                   0  \n",
       "1                   0  \n",
       "2                   0  \n",
       "3                   1  \n",
       "4                   1  \n",
       "\n",
       "[5 rows x 180 columns]"
      ]
     },
     "execution_count": 29,
     "metadata": {},
     "output_type": "execute_result"
    }
   ],
   "source": [
    "X.head()"
   ]
  },
  {
   "cell_type": "code",
   "execution_count": 30,
   "id": "dcadaf7c",
   "metadata": {
    "execution": {
     "iopub.execute_input": "2022-09-08T19:25:18.367120Z",
     "iopub.status.busy": "2022-09-08T19:25:18.366343Z",
     "iopub.status.idle": "2022-09-08T19:25:19.152843Z",
     "shell.execute_reply": "2022-09-08T19:25:19.151642Z"
    },
    "papermill": {
     "duration": 0.809964,
     "end_time": "2022-09-08T19:25:19.155708",
     "exception": false,
     "start_time": "2022-09-08T19:25:18.345744",
     "status": "completed"
    },
    "tags": []
   },
   "outputs": [],
   "source": [
    "mi_scores = mutual_info_regression(X ,Y, random_state=0)\n",
    "mi_scores = pd.Series(mi_scores, name=\"MI Scores\", index=X.columns)\n",
    "mi_scores = mi_scores.sort_values(ascending=False)\n",
    "X = drop_uninformative(X,mi_scores)"
   ]
  },
  {
   "cell_type": "code",
   "execution_count": null,
   "id": "7da40f24",
   "metadata": {
    "papermill": {
     "duration": 0.01924,
     "end_time": "2022-09-08T19:25:19.194324",
     "exception": false,
     "start_time": "2022-09-08T19:25:19.175084",
     "status": "completed"
    },
    "tags": []
   },
   "outputs": [],
   "source": []
  },
  {
   "cell_type": "markdown",
   "id": "96c424a2",
   "metadata": {
    "papermill": {
     "duration": 0.019289,
     "end_time": "2022-09-08T19:25:19.233225",
     "exception": false,
     "start_time": "2022-09-08T19:25:19.213936",
     "status": "completed"
    },
    "tags": []
   },
   "source": [
    "## Train/Test split :"
   ]
  },
  {
   "cell_type": "code",
   "execution_count": 31,
   "id": "60a46c70",
   "metadata": {
    "execution": {
     "iopub.execute_input": "2022-09-08T19:25:19.274298Z",
     "iopub.status.busy": "2022-09-08T19:25:19.273864Z",
     "iopub.status.idle": "2022-09-08T19:25:19.283009Z",
     "shell.execute_reply": "2022-09-08T19:25:19.282035Z"
    },
    "papermill": {
     "duration": 0.032688,
     "end_time": "2022-09-08T19:25:19.285435",
     "exception": false,
     "start_time": "2022-09-08T19:25:19.252747",
     "status": "completed"
    },
    "tags": []
   },
   "outputs": [],
   "source": [
    "from sklearn.model_selection import train_test_split\n",
    "X_train, X_test, y_train, y_test = train_test_split(X, Y, test_size=0.33, random_state=30)"
   ]
  },
  {
   "cell_type": "code",
   "execution_count": 32,
   "id": "7cc12051",
   "metadata": {
    "execution": {
     "iopub.execute_input": "2022-09-08T19:25:19.326441Z",
     "iopub.status.busy": "2022-09-08T19:25:19.325784Z",
     "iopub.status.idle": "2022-09-08T19:25:19.464412Z",
     "shell.execute_reply": "2022-09-08T19:25:19.463319Z"
    },
    "papermill": {
     "duration": 0.161952,
     "end_time": "2022-09-08T19:25:19.467066",
     "exception": false,
     "start_time": "2022-09-08T19:25:19.305114",
     "status": "completed"
    },
    "tags": []
   },
   "outputs": [],
   "source": [
    "from sklearn.model_selection import cross_val_score\n",
    "from sklearn.model_selection import RandomizedSearchCV\n",
    "from sklearn.metrics import mean_squared_error, mean_absolute_error\n",
    "from xgboost import XGBRegressor"
   ]
  },
  {
   "cell_type": "markdown",
   "id": "23ed2c14",
   "metadata": {
    "papermill": {
     "duration": 0.018998,
     "end_time": "2022-09-08T19:25:19.505547",
     "exception": false,
     "start_time": "2022-09-08T19:25:19.486549",
     "status": "completed"
    },
    "tags": []
   },
   "source": [
    "## XGBoost with SearchCV"
   ]
  },
  {
   "cell_type": "code",
   "execution_count": 33,
   "id": "143a6851",
   "metadata": {
    "execution": {
     "iopub.execute_input": "2022-09-08T19:25:19.546313Z",
     "iopub.status.busy": "2022-09-08T19:25:19.545426Z",
     "iopub.status.idle": "2022-09-08T19:25:19.550740Z",
     "shell.execute_reply": "2022-09-08T19:25:19.549512Z"
    },
    "papermill": {
     "duration": 0.028145,
     "end_time": "2022-09-08T19:25:19.552956",
     "exception": false,
     "start_time": "2022-09-08T19:25:19.524811",
     "status": "completed"
    },
    "tags": []
   },
   "outputs": [],
   "source": [
    "xgr = XGBRegressor()"
   ]
  },
  {
   "cell_type": "code",
   "execution_count": 34,
   "id": "380a66d0",
   "metadata": {
    "execution": {
     "iopub.execute_input": "2022-09-08T19:25:19.593683Z",
     "iopub.status.busy": "2022-09-08T19:25:19.593021Z",
     "iopub.status.idle": "2022-09-08T19:25:19.599537Z",
     "shell.execute_reply": "2022-09-08T19:25:19.598544Z"
    },
    "papermill": {
     "duration": 0.029783,
     "end_time": "2022-09-08T19:25:19.601905",
     "exception": false,
     "start_time": "2022-09-08T19:25:19.572122",
     "status": "completed"
    },
    "tags": []
   },
   "outputs": [],
   "source": [
    "param_lst = {\n",
    "    \"learning_rate\" : [0.07,0.05,0.04,0.02,0.01],\n",
    "    \"n_estimators\" : [50,80,100,200,300,400,500],\n",
    "    \"max_depth\" : [2,4,8,10],\n",
    "    \"min_child_weight\" : [1,5,10,20,30],\n",
    "    \"reg_alpha\" : [0.001,0.01,0.1],\n",
    "    \"reg_lambda\" : [0.001,0.01,0.1]\n",
    "    \n",
    "}\n",
    "\n",
    "##you could try to tune this better"
   ]
  },
  {
   "cell_type": "code",
   "execution_count": 35,
   "id": "68eae254",
   "metadata": {
    "execution": {
     "iopub.execute_input": "2022-09-08T19:25:19.642686Z",
     "iopub.status.busy": "2022-09-08T19:25:19.641762Z",
     "iopub.status.idle": "2022-09-08T19:25:19.647585Z",
     "shell.execute_reply": "2022-09-08T19:25:19.646407Z"
    },
    "papermill": {
     "duration": 0.028655,
     "end_time": "2022-09-08T19:25:19.649788",
     "exception": false,
     "start_time": "2022-09-08T19:25:19.621133",
     "status": "completed"
    },
    "tags": []
   },
   "outputs": [],
   "source": [
    "xgREg = RandomizedSearchCV(estimator=xgr,param_distributions=param_lst,\n",
    "                            n_iter = 5,scoring=\"neg_root_mean_squared_error\",cv = 3,random_state=30)\n"
   ]
  },
  {
   "cell_type": "code",
   "execution_count": 36,
   "id": "02052a48",
   "metadata": {
    "execution": {
     "iopub.execute_input": "2022-09-08T19:25:19.690122Z",
     "iopub.status.busy": "2022-09-08T19:25:19.689065Z",
     "iopub.status.idle": "2022-09-08T19:25:34.122152Z",
     "shell.execute_reply": "2022-09-08T19:25:34.121241Z"
    },
    "papermill": {
     "duration": 14.455812,
     "end_time": "2022-09-08T19:25:34.124695",
     "exception": false,
     "start_time": "2022-09-08T19:25:19.668883",
     "status": "completed"
    },
    "tags": []
   },
   "outputs": [],
   "source": [
    "xgREg = xgREg.fit(X_train,y_train)\n",
    "\n",
    "best_param = xgREg.best_params_\n",
    "\n",
    "xgREg = XGBRegressor(**best_param)"
   ]
  },
  {
   "cell_type": "code",
   "execution_count": 37,
   "id": "81f21144",
   "metadata": {
    "execution": {
     "iopub.execute_input": "2022-09-08T19:25:34.165082Z",
     "iopub.status.busy": "2022-09-08T19:25:34.164298Z",
     "iopub.status.idle": "2022-09-08T19:25:34.169967Z",
     "shell.execute_reply": "2022-09-08T19:25:34.169108Z"
    },
    "papermill": {
     "duration": 0.028502,
     "end_time": "2022-09-08T19:25:34.172339",
     "exception": false,
     "start_time": "2022-09-08T19:25:34.143837",
     "status": "completed"
    },
    "tags": []
   },
   "outputs": [],
   "source": [
    "def mean_cross_value(model,X,y):\n",
    "    score = cross_val_score(model,X,y,cv=5)\n",
    "    mean = score.mean()\n",
    "    return mean"
   ]
  },
  {
   "cell_type": "code",
   "execution_count": 38,
   "id": "66df11dc",
   "metadata": {
    "execution": {
     "iopub.execute_input": "2022-09-08T19:25:34.212719Z",
     "iopub.status.busy": "2022-09-08T19:25:34.211918Z",
     "iopub.status.idle": "2022-09-08T19:25:39.759896Z",
     "shell.execute_reply": "2022-09-08T19:25:39.758836Z"
    },
    "papermill": {
     "duration": 5.571165,
     "end_time": "2022-09-08T19:25:39.762573",
     "exception": false,
     "start_time": "2022-09-08T19:25:34.191408",
     "status": "completed"
    },
    "tags": []
   },
   "outputs": [],
   "source": [
    "xgREg.fit(X_train,y_train)\n",
    "preds = xgREg.predict(X_test)\n",
    "mae_xgb = mean_absolute_error(y_test,preds)\n",
    "rmse_xgb = np.sqrt(mean_absolute_error(y_test,preds))\n",
    "score_xgb = xgREg.score(X_test,y_test)\n",
    "cv_xgb = mean_cross_value(xgREg,X,Y)"
   ]
  },
  {
   "cell_type": "code",
   "execution_count": 39,
   "id": "157cc163",
   "metadata": {
    "execution": {
     "iopub.execute_input": "2022-09-08T19:25:39.803877Z",
     "iopub.status.busy": "2022-09-08T19:25:39.802850Z",
     "iopub.status.idle": "2022-09-08T19:25:39.815270Z",
     "shell.execute_reply": "2022-09-08T19:25:39.814454Z"
    },
    "papermill": {
     "duration": 0.035458,
     "end_time": "2022-09-08T19:25:39.817346",
     "exception": false,
     "start_time": "2022-09-08T19:25:39.781888",
     "status": "completed"
    },
    "tags": []
   },
   "outputs": [
    {
     "data": {
      "text/html": [
       "<div>\n",
       "<style scoped>\n",
       "    .dataframe tbody tr th:only-of-type {\n",
       "        vertical-align: middle;\n",
       "    }\n",
       "\n",
       "    .dataframe tbody tr th {\n",
       "        vertical-align: top;\n",
       "    }\n",
       "\n",
       "    .dataframe thead th {\n",
       "        text-align: right;\n",
       "    }\n",
       "</style>\n",
       "<table border=\"1\" class=\"dataframe\">\n",
       "  <thead>\n",
       "    <tr style=\"text-align: right;\">\n",
       "      <th></th>\n",
       "      <th>Model</th>\n",
       "      <th>CV(5)</th>\n",
       "      <th>MAE</th>\n",
       "      <th>RMSE</th>\n",
       "    </tr>\n",
       "  </thead>\n",
       "  <tbody>\n",
       "    <tr>\n",
       "      <th>0</th>\n",
       "      <td>XGBoost</td>\n",
       "      <td>0.5015436170570272</td>\n",
       "      <td>27892.70168201959</td>\n",
       "      <td>167.01108251256738</td>\n",
       "    </tr>\n",
       "  </tbody>\n",
       "</table>\n",
       "</div>"
      ],
      "text/plain": [
       "     Model               CV(5)                MAE                RMSE\n",
       "0  XGBoost  0.5015436170570272  27892.70168201959  167.01108251256738"
      ]
     },
     "execution_count": 39,
     "metadata": {},
     "output_type": "execute_result"
    }
   ],
   "source": [
    "model_performances = pd.DataFrame({\n",
    "    \"Model\":[\"XGBoost\"],\n",
    "    \"CV(5)\" : [str(cv_xgb)],\n",
    "    \"MAE\" : [str(mae_xgb)],\n",
    "    \"RMSE\" : [str(rmse_xgb)],\n",
    "})\n",
    "model_performances\n"
   ]
  },
  {
   "cell_type": "code",
   "execution_count": 40,
   "id": "7c2a4570",
   "metadata": {
    "execution": {
     "iopub.execute_input": "2022-09-08T19:25:39.858484Z",
     "iopub.status.busy": "2022-09-08T19:25:39.857958Z",
     "iopub.status.idle": "2022-09-08T19:25:40.086916Z",
     "shell.execute_reply": "2022-09-08T19:25:40.085721Z"
    },
    "papermill": {
     "duration": 0.252627,
     "end_time": "2022-09-08T19:25:40.089473",
     "exception": false,
     "start_time": "2022-09-08T19:25:39.836846",
     "status": "completed"
    },
    "tags": []
   },
   "outputs": [
    {
     "data": {
      "image/png": "[encoded data removed]",
      "text/plain": [
       "<Figure size 432x288 with 1 Axes>"
      ]
     },
     "metadata": {
      "needs_background": "light"
     },
     "output_type": "display_data"
    }
   ],
   "source": [
    "x_ax = range(len(y_test))\n",
    "plt.scatter(x_ax, y_test, s=5, color=\"blue\", label=\"original\")\n",
    "plt.plot(x_ax, preds, lw=0.5, color=\"red\", label=\"predicted\")\n",
    "plt.legend()\n",
    "plt.show()\n",
    "\n"
   ]
  },
  {
   "cell_type": "markdown",
   "id": "07088f41",
   "metadata": {
    "papermill": {
     "duration": 0.019865,
     "end_time": "2022-09-08T19:25:40.129375",
     "exception": false,
     "start_time": "2022-09-08T19:25:40.109510",
     "status": "completed"
    },
    "tags": []
   },
   "source": [
    "So our model has an MAE of 27900 and 167 RMSE,\n",
    "I hope that you can easly understand this notebook and be able to improve it by making better\n",
    "features or using other models that might perform better than XGBoost\n",
    "## :)\n"
   ]
  },
  {
   "cell_type": "code",
   "execution_count": null,
   "id": "ae7cf87a",
   "metadata": {
    "papermill": {
     "duration": 0.019622,
     "end_time": "2022-09-08T19:25:40.169085",
     "exception": false,
     "start_time": "2022-09-08T19:25:40.149463",
     "status": "completed"
    },
    "tags": []
   },
   "outputs": [],
   "source": []
  }
 ],
 "metadata": {
  "kernelspec": {
   "display_name": "Python 3",
   "language": "python",
   "name": "python3"
  },
  "language_info": {
   "codemirror_mode": {
    "name": "ipython",
    "version": 3
   },
   "file_extension": ".py",
   "mimetype": "text/x-python",
   "name": "python",
   "nbconvert_exporter": "python",
   "pygments_lexer": "ipython3",
   "version": "3.7.12"
  },
  "papermill": {
   "default_parameters": {},
   "duration": 66.038009,
   "end_time": "2022-09-08T19:25:41.315725",
   "environment_variables": {},
   "exception": null,
   "input_path": "__notebook__.ipynb",
   "output_path": "__notebook__.ipynb",
   "parameters": {},
   "start_time": "2022-09-08T19:24:35.277716",
   "version": "2.3.4"
  }
 },
 "nbformat": 4,
 "nbformat_minor": 5
}
